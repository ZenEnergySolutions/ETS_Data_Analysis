{
 "cells": [
  {
   "cell_type": "code",
   "execution_count": 105,
   "id": "c2472f96-2824-429e-82a7-359135a5dec9",
   "metadata": {},
   "outputs": [],
   "source": [
    "import numpy as np\n",
    "import pandas as pd\n",
    "import seaborn as sns\n",
    "import matplotlib.pyplot as plt\n",
    "import datetime\n",
    "import plotly.express as px"
   ]
  },
  {
   "cell_type": "code",
   "execution_count": 106,
   "id": "39378166-67ec-4ea1-a566-609d23aa6dda",
   "metadata": {},
   "outputs": [
    {
     "data": {
      "text/html": [
       "<div>\n",
       "<style scoped>\n",
       "    .dataframe tbody tr th:only-of-type {\n",
       "        vertical-align: middle;\n",
       "    }\n",
       "\n",
       "    .dataframe tbody tr th {\n",
       "        vertical-align: top;\n",
       "    }\n",
       "\n",
       "    .dataframe thead th {\n",
       "        text-align: right;\n",
       "    }\n",
       "</style>\n",
       "<table border=\"1\" class=\"dataframe\">\n",
       "  <thead>\n",
       "    <tr style=\"text-align: right;\">\n",
       "      <th></th>\n",
       "      <th>date</th>\n",
       "      <th>Year</th>\n",
       "      <th>Month</th>\n",
       "      <th>Day</th>\n",
       "      <th>Max Temp (°C)</th>\n",
       "      <th>Min Temp (°C)</th>\n",
       "    </tr>\n",
       "  </thead>\n",
       "  <tbody>\n",
       "    <tr>\n",
       "      <th>0</th>\n",
       "      <td>2021-01-01</td>\n",
       "      <td>2021</td>\n",
       "      <td>1</td>\n",
       "      <td>1</td>\n",
       "      <td>-4.2</td>\n",
       "      <td>-13.1</td>\n",
       "    </tr>\n",
       "    <tr>\n",
       "      <th>1</th>\n",
       "      <td>2021-01-02</td>\n",
       "      <td>2021</td>\n",
       "      <td>1</td>\n",
       "      <td>2</td>\n",
       "      <td>4.0</td>\n",
       "      <td>-11.4</td>\n",
       "    </tr>\n",
       "    <tr>\n",
       "      <th>2</th>\n",
       "      <td>2021-01-03</td>\n",
       "      <td>2021</td>\n",
       "      <td>1</td>\n",
       "      <td>3</td>\n",
       "      <td>3.0</td>\n",
       "      <td>-7.8</td>\n",
       "    </tr>\n",
       "    <tr>\n",
       "      <th>3</th>\n",
       "      <td>2021-01-04</td>\n",
       "      <td>2021</td>\n",
       "      <td>1</td>\n",
       "      <td>4</td>\n",
       "      <td>-4.4</td>\n",
       "      <td>-13.2</td>\n",
       "    </tr>\n",
       "    <tr>\n",
       "      <th>4</th>\n",
       "      <td>2021-01-05</td>\n",
       "      <td>2021</td>\n",
       "      <td>1</td>\n",
       "      <td>5</td>\n",
       "      <td>-1.4</td>\n",
       "      <td>-7.7</td>\n",
       "    </tr>\n",
       "    <tr>\n",
       "      <th>...</th>\n",
       "      <td>...</td>\n",
       "      <td>...</td>\n",
       "      <td>...</td>\n",
       "      <td>...</td>\n",
       "      <td>...</td>\n",
       "      <td>...</td>\n",
       "    </tr>\n",
       "    <tr>\n",
       "      <th>360</th>\n",
       "      <td>2021-12-27</td>\n",
       "      <td>2021</td>\n",
       "      <td>12</td>\n",
       "      <td>27</td>\n",
       "      <td>-28.4</td>\n",
       "      <td>-41.7</td>\n",
       "    </tr>\n",
       "    <tr>\n",
       "      <th>361</th>\n",
       "      <td>2021-12-28</td>\n",
       "      <td>2021</td>\n",
       "      <td>12</td>\n",
       "      <td>28</td>\n",
       "      <td>-22.8</td>\n",
       "      <td>-42.1</td>\n",
       "    </tr>\n",
       "    <tr>\n",
       "      <th>362</th>\n",
       "      <td>2021-12-29</td>\n",
       "      <td>2021</td>\n",
       "      <td>12</td>\n",
       "      <td>29</td>\n",
       "      <td>-22.1</td>\n",
       "      <td>-32.9</td>\n",
       "    </tr>\n",
       "    <tr>\n",
       "      <th>363</th>\n",
       "      <td>2021-12-30</td>\n",
       "      <td>2021</td>\n",
       "      <td>12</td>\n",
       "      <td>30</td>\n",
       "      <td>-21.7</td>\n",
       "      <td>-37.6</td>\n",
       "    </tr>\n",
       "    <tr>\n",
       "      <th>364</th>\n",
       "      <td>2021-12-31</td>\n",
       "      <td>2021</td>\n",
       "      <td>12</td>\n",
       "      <td>31</td>\n",
       "      <td>-26.2</td>\n",
       "      <td>-40.1</td>\n",
       "    </tr>\n",
       "  </tbody>\n",
       "</table>\n",
       "<p>365 rows × 6 columns</p>\n",
       "</div>"
      ],
      "text/plain": [
       "          date  Year  Month  Day  Max Temp (°C)  Min Temp (°C)\n",
       "0   2021-01-01  2021      1    1           -4.2          -13.1\n",
       "1   2021-01-02  2021      1    2            4.0          -11.4\n",
       "2   2021-01-03  2021      1    3            3.0           -7.8\n",
       "3   2021-01-04  2021      1    4           -4.4          -13.2\n",
       "4   2021-01-05  2021      1    5           -1.4           -7.7\n",
       "..         ...   ...    ...  ...            ...            ...\n",
       "360 2021-12-27  2021     12   27          -28.4          -41.7\n",
       "361 2021-12-28  2021     12   28          -22.8          -42.1\n",
       "362 2021-12-29  2021     12   29          -22.1          -32.9\n",
       "363 2021-12-30  2021     12   30          -21.7          -37.6\n",
       "364 2021-12-31  2021     12   31          -26.2          -40.1\n",
       "\n",
       "[365 rows x 6 columns]"
      ]
     },
     "execution_count": 106,
     "metadata": {},
     "output_type": "execute_result"
    }
   ],
   "source": [
    "ebus = pd.read_excel(\"2021 Diesel Issued to Ebuses.xlsx\")\n",
    "temps = pd.read_excel(\"edmonton_temps.xlsx\")\n",
    "temps"
   ]
  },
  {
   "cell_type": "code",
   "execution_count": 107,
   "id": "b20ac97a-79f7-4fc6-8532-3917fb591f57",
   "metadata": {},
   "outputs": [
    {
     "name": "stdout",
     "output_type": "stream",
     "text": [
      "<class 'pandas.core.frame.DataFrame'>\n",
      "RangeIndex: 5022 entries, 0 to 5021\n",
      "Data columns (total 21 columns):\n",
      " #   Column                    Non-Null Count  Dtype         \n",
      "---  ------                    --------------  -----         \n",
      " 0   Unit No                   5022 non-null   object        \n",
      " 1   Date                      5022 non-null   object        \n",
      " 2   Daily Route Status        5022 non-null   object        \n",
      " 3   Start of Day Odometer     3615 non-null   float64       \n",
      " 4   End of Day Odometer       4455 non-null   float64       \n",
      " 5   Kilometers                5022 non-null   float64       \n",
      " 6   Average Net kWH per KM    4966 non-null   float64       \n",
      " 7   Average Gross kWH per KM  4966 non-null   float64       \n",
      " 8   Start of Day SOC          3759 non-null   float64       \n",
      " 9   End of Day SOC            4634 non-null   float64       \n",
      " 10  Ave Ambient Temp (C)      4880 non-null   float64       \n",
      " 11  Ave Temp (EnviroCanada)   5022 non-null   float64       \n",
      " 12  Energy Charged (kWH)      5022 non-null   float64       \n",
      " 13  Regenerated kWH           5022 non-null   float64       \n",
      " 14  Energy Consumed (kWH)     5022 non-null   float64       \n",
      " 15  kWH for components        5022 non-null   float64       \n",
      " 16  Hours Charging            5022 non-null   float64       \n",
      " 17  Hours Moving              5022 non-null   float64       \n",
      " 18  Hours Stopped             5022 non-null   float64       \n",
      " 19  Hours Operating           5022 non-null   float64       \n",
      " 20  datetime                  5022 non-null   datetime64[ns]\n",
      "dtypes: datetime64[ns](1), float64(17), object(3)\n",
      "memory usage: 824.0+ KB\n"
     ]
    }
   ],
   "source": [
    "trips = pd.read_excel(\"ETS Daily Bus Energy Consumption.xlsx\")\n",
    "trips['datetime'] = pd.to_datetime(trips.Date)\n",
    "trips.info()"
   ]
  },
  {
   "cell_type": "code",
   "execution_count": 108,
   "id": "e5d04d62-74bb-4054-9196-1a2602b6898b",
   "metadata": {},
   "outputs": [
    {
     "name": "stdout",
     "output_type": "stream",
     "text": [
      "<class 'pandas.core.frame.DataFrame'>\n",
      "RangeIndex: 2783 entries, 0 to 2782\n",
      "Data columns (total 9 columns):\n",
      " #   Column                Non-Null Count  Dtype  \n",
      "---  ------                --------------  -----  \n",
      " 0   Unit No               2783 non-null   object \n",
      " 1   Transaction Day       2783 non-null   object \n",
      " 2   Time of Transaction   2783 non-null   object \n",
      " 3   Fuel                  2783 non-null   object \n",
      " 4   Loc Desc              2783 non-null   object \n",
      " 5   Category Description  2783 non-null   object \n",
      " 6   Issue Qty             2783 non-null   float64\n",
      " 7   Total $/L             2783 non-null   float64\n",
      " 8   Total Do              2783 non-null   float64\n",
      "dtypes: float64(3), object(6)\n",
      "memory usage: 195.8+ KB\n"
     ]
    }
   ],
   "source": [
    "ebus.info()"
   ]
  },
  {
   "cell_type": "code",
   "execution_count": 109,
   "id": "968f5d9e-d716-47f8-b48c-7d0f38a88362",
   "metadata": {},
   "outputs": [
    {
     "data": {
      "text/html": [
       "<div>\n",
       "<style scoped>\n",
       "    .dataframe tbody tr th:only-of-type {\n",
       "        vertical-align: middle;\n",
       "    }\n",
       "\n",
       "    .dataframe tbody tr th {\n",
       "        vertical-align: top;\n",
       "    }\n",
       "\n",
       "    .dataframe thead th {\n",
       "        text-align: right;\n",
       "    }\n",
       "</style>\n",
       "<table border=\"1\" class=\"dataframe\">\n",
       "  <thead>\n",
       "    <tr style=\"text-align: right;\">\n",
       "      <th></th>\n",
       "      <th>Unit No</th>\n",
       "      <th>Transaction Day</th>\n",
       "      <th>Time of Transaction</th>\n",
       "      <th>Fuel</th>\n",
       "      <th>Loc Desc</th>\n",
       "      <th>Category Description</th>\n",
       "      <th>Issue Qty</th>\n",
       "      <th>Total $/L</th>\n",
       "      <th>Total Do</th>\n",
       "      <th>datetimeindex</th>\n",
       "      <th>time</th>\n",
       "    </tr>\n",
       "  </thead>\n",
       "  <tbody>\n",
       "    <tr>\n",
       "      <th>0</th>\n",
       "      <td>N8000</td>\n",
       "      <td>08-Jan-21</td>\n",
       "      <td>15:52:44</td>\n",
       "      <td>DIESEL</td>\n",
       "      <td>Fuel - Centennial Transit</td>\n",
       "      <td>ELECTRIC BUS</td>\n",
       "      <td>22.8</td>\n",
       "      <td>0.9638</td>\n",
       "      <td>21.97464</td>\n",
       "      <td>2021-01-08 15:52:44</td>\n",
       "      <td>15:52</td>\n",
       "    </tr>\n",
       "    <tr>\n",
       "      <th>1</th>\n",
       "      <td>N8000</td>\n",
       "      <td>12-Jan-21</td>\n",
       "      <td>15:59:09</td>\n",
       "      <td>DIESEL</td>\n",
       "      <td>Fuel - Centennial Transit</td>\n",
       "      <td>ELECTRIC BUS</td>\n",
       "      <td>5.8</td>\n",
       "      <td>0.9638</td>\n",
       "      <td>5.59004</td>\n",
       "      <td>2021-01-12 15:59:09</td>\n",
       "      <td>15:59</td>\n",
       "    </tr>\n",
       "    <tr>\n",
       "      <th>2</th>\n",
       "      <td>N8000</td>\n",
       "      <td>19-Jan-21</td>\n",
       "      <td>16:17:47</td>\n",
       "      <td>DIESEL</td>\n",
       "      <td>Fuel - Centennial Transit</td>\n",
       "      <td>ELECTRIC BUS</td>\n",
       "      <td>6.1</td>\n",
       "      <td>0.9419</td>\n",
       "      <td>5.74559</td>\n",
       "      <td>2021-01-19 16:17:47</td>\n",
       "      <td>16:17</td>\n",
       "    </tr>\n",
       "    <tr>\n",
       "      <th>3</th>\n",
       "      <td>N8000</td>\n",
       "      <td>03-Feb-21</td>\n",
       "      <td>18:55:34</td>\n",
       "      <td>DIESEL</td>\n",
       "      <td>Fuel - Centennial Transit</td>\n",
       "      <td>ELECTRIC BUS</td>\n",
       "      <td>10.6</td>\n",
       "      <td>0.9524</td>\n",
       "      <td>10.09544</td>\n",
       "      <td>2021-02-03 18:55:34</td>\n",
       "      <td>18:55</td>\n",
       "    </tr>\n",
       "    <tr>\n",
       "      <th>4</th>\n",
       "      <td>N8000</td>\n",
       "      <td>10-Feb-21</td>\n",
       "      <td>22:06:21</td>\n",
       "      <td>DIESEL</td>\n",
       "      <td>Fuel - Centennial Transit</td>\n",
       "      <td>ELECTRIC BUS</td>\n",
       "      <td>2.3</td>\n",
       "      <td>0.9638</td>\n",
       "      <td>2.21674</td>\n",
       "      <td>2021-02-10 22:06:21</td>\n",
       "      <td>22:06</td>\n",
       "    </tr>\n",
       "    <tr>\n",
       "      <th>...</th>\n",
       "      <td>...</td>\n",
       "      <td>...</td>\n",
       "      <td>...</td>\n",
       "      <td>...</td>\n",
       "      <td>...</td>\n",
       "      <td>...</td>\n",
       "      <td>...</td>\n",
       "      <td>...</td>\n",
       "      <td>...</td>\n",
       "      <td>...</td>\n",
       "      <td>...</td>\n",
       "    </tr>\n",
       "    <tr>\n",
       "      <th>2778</th>\n",
       "      <td>N8039</td>\n",
       "      <td>26-Oct-21</td>\n",
       "      <td>11:10:16</td>\n",
       "      <td>DIESEL</td>\n",
       "      <td>Fuel - Kathleen Andrews Transit</td>\n",
       "      <td>ELECTRIC BUS</td>\n",
       "      <td>14.3</td>\n",
       "      <td>0.9423</td>\n",
       "      <td>13.47489</td>\n",
       "      <td>2021-10-26 11:10:16</td>\n",
       "      <td>11:10</td>\n",
       "    </tr>\n",
       "    <tr>\n",
       "      <th>2779</th>\n",
       "      <td>N8039</td>\n",
       "      <td>27-Oct-21</td>\n",
       "      <td>10:55:50</td>\n",
       "      <td>DIESEL</td>\n",
       "      <td>Fuel - Kathleen Andrews Transit</td>\n",
       "      <td>ELECTRIC BUS</td>\n",
       "      <td>13.8</td>\n",
       "      <td>0.9423</td>\n",
       "      <td>13.00374</td>\n",
       "      <td>2021-10-27 10:55:50</td>\n",
       "      <td>10:55</td>\n",
       "    </tr>\n",
       "    <tr>\n",
       "      <th>2780</th>\n",
       "      <td>N8039</td>\n",
       "      <td>28-Oct-21</td>\n",
       "      <td>19:27:48</td>\n",
       "      <td>DIESEL</td>\n",
       "      <td>Fuel - Kathleen Andrews Transit</td>\n",
       "      <td>ELECTRIC BUS</td>\n",
       "      <td>24.8</td>\n",
       "      <td>0.9423</td>\n",
       "      <td>23.36904</td>\n",
       "      <td>2021-10-28 19:27:48</td>\n",
       "      <td>19:27</td>\n",
       "    </tr>\n",
       "    <tr>\n",
       "      <th>2781</th>\n",
       "      <td>N8039</td>\n",
       "      <td>02-Nov-21</td>\n",
       "      <td>00:58:57</td>\n",
       "      <td>DIESEL</td>\n",
       "      <td>Fuel - Kathleen Andrews Transit</td>\n",
       "      <td>ELECTRIC BUS</td>\n",
       "      <td>14.9</td>\n",
       "      <td>0.9172</td>\n",
       "      <td>13.66628</td>\n",
       "      <td>2021-11-02 00:58:57</td>\n",
       "      <td>00:58</td>\n",
       "    </tr>\n",
       "    <tr>\n",
       "      <th>2782</th>\n",
       "      <td>N8039</td>\n",
       "      <td>02-Nov-21</td>\n",
       "      <td>20:19:40</td>\n",
       "      <td>DIESEL</td>\n",
       "      <td>Fuel - Kathleen Andrews Transit</td>\n",
       "      <td>ELECTRIC BUS</td>\n",
       "      <td>14.6</td>\n",
       "      <td>0.9172</td>\n",
       "      <td>13.39112</td>\n",
       "      <td>2021-11-02 20:19:40</td>\n",
       "      <td>20:19</td>\n",
       "    </tr>\n",
       "  </tbody>\n",
       "</table>\n",
       "<p>2783 rows × 11 columns</p>\n",
       "</div>"
      ],
      "text/plain": [
       "     Unit No Transaction Day Time of Transaction    Fuel  \\\n",
       "0      N8000       08-Jan-21            15:52:44  DIESEL   \n",
       "1      N8000       12-Jan-21            15:59:09  DIESEL   \n",
       "2      N8000       19-Jan-21            16:17:47  DIESEL   \n",
       "3      N8000       03-Feb-21            18:55:34  DIESEL   \n",
       "4      N8000       10-Feb-21            22:06:21  DIESEL   \n",
       "...      ...             ...                 ...     ...   \n",
       "2778   N8039       26-Oct-21            11:10:16  DIESEL   \n",
       "2779   N8039       27-Oct-21            10:55:50  DIESEL   \n",
       "2780   N8039       28-Oct-21            19:27:48  DIESEL   \n",
       "2781   N8039       02-Nov-21            00:58:57  DIESEL   \n",
       "2782   N8039       02-Nov-21            20:19:40  DIESEL   \n",
       "\n",
       "                             Loc Desc Category Description  Issue Qty  \\\n",
       "0           Fuel - Centennial Transit         ELECTRIC BUS       22.8   \n",
       "1           Fuel - Centennial Transit         ELECTRIC BUS        5.8   \n",
       "2           Fuel - Centennial Transit         ELECTRIC BUS        6.1   \n",
       "3           Fuel - Centennial Transit         ELECTRIC BUS       10.6   \n",
       "4           Fuel - Centennial Transit         ELECTRIC BUS        2.3   \n",
       "...                               ...                  ...        ...   \n",
       "2778  Fuel - Kathleen Andrews Transit         ELECTRIC BUS       14.3   \n",
       "2779  Fuel - Kathleen Andrews Transit         ELECTRIC BUS       13.8   \n",
       "2780  Fuel - Kathleen Andrews Transit         ELECTRIC BUS       24.8   \n",
       "2781  Fuel - Kathleen Andrews Transit         ELECTRIC BUS       14.9   \n",
       "2782  Fuel - Kathleen Andrews Transit         ELECTRIC BUS       14.6   \n",
       "\n",
       "      Total $/L  Total Do       datetimeindex   time  \n",
       "0        0.9638  21.97464 2021-01-08 15:52:44  15:52  \n",
       "1        0.9638   5.59004 2021-01-12 15:59:09  15:59  \n",
       "2        0.9419   5.74559 2021-01-19 16:17:47  16:17  \n",
       "3        0.9524  10.09544 2021-02-03 18:55:34  18:55  \n",
       "4        0.9638   2.21674 2021-02-10 22:06:21  22:06  \n",
       "...         ...       ...                 ...    ...  \n",
       "2778     0.9423  13.47489 2021-10-26 11:10:16  11:10  \n",
       "2779     0.9423  13.00374 2021-10-27 10:55:50  10:55  \n",
       "2780     0.9423  23.36904 2021-10-28 19:27:48  19:27  \n",
       "2781     0.9172  13.66628 2021-11-02 00:58:57  00:58  \n",
       "2782     0.9172  13.39112 2021-11-02 20:19:40  20:19  \n",
       "\n",
       "[2783 rows x 11 columns]"
      ]
     },
     "execution_count": 109,
     "metadata": {},
     "output_type": "execute_result"
    }
   ],
   "source": [
    "ebus['datetimeindex'] = pd.to_datetime(ebus['Transaction Day'] + ' ' + ebus['Time of Transaction'] )\n",
    "#ebus['time'] = ebus.timestamp.dt.time\n",
    "ebus['time'] = pd.to_datetime(ebus['Time of Transaction']).dt.strftime('%H:%M')\n",
    "ebus"
   ]
  },
  {
   "cell_type": "code",
   "execution_count": 110,
   "id": "6af0940a-a30e-427c-9ce8-4b5cd4ffaec8",
   "metadata": {},
   "outputs": [
    {
     "data": {
      "text/html": [
       "<div>\n",
       "<style scoped>\n",
       "    .dataframe tbody tr th:only-of-type {\n",
       "        vertical-align: middle;\n",
       "    }\n",
       "\n",
       "    .dataframe tbody tr th {\n",
       "        vertical-align: top;\n",
       "    }\n",
       "\n",
       "    .dataframe thead th {\n",
       "        text-align: right;\n",
       "    }\n",
       "</style>\n",
       "<table border=\"1\" class=\"dataframe\">\n",
       "  <thead>\n",
       "    <tr style=\"text-align: right;\">\n",
       "      <th></th>\n",
       "      <th>Unit No</th>\n",
       "      <th>Transaction Day</th>\n",
       "      <th>Time of Transaction</th>\n",
       "      <th>Fuel</th>\n",
       "      <th>Loc Desc</th>\n",
       "      <th>Category Description</th>\n",
       "      <th>Issue Qty</th>\n",
       "      <th>Total $/L</th>\n",
       "      <th>Total Do</th>\n",
       "      <th>datetimeindex</th>\n",
       "      <th>time</th>\n",
       "      <th>date</th>\n",
       "      <th>Year</th>\n",
       "      <th>Month</th>\n",
       "      <th>Day</th>\n",
       "      <th>Max Temp (°C)</th>\n",
       "      <th>Min Temp (°C)</th>\n",
       "    </tr>\n",
       "  </thead>\n",
       "  <tbody>\n",
       "    <tr>\n",
       "      <th>0</th>\n",
       "      <td>N8013</td>\n",
       "      <td>01-Jan-21</td>\n",
       "      <td>00:05:01</td>\n",
       "      <td>DIESEL</td>\n",
       "      <td>Fuel - Kathleen Andrews Transit</td>\n",
       "      <td>ELECTRIC BUS</td>\n",
       "      <td>7.4</td>\n",
       "      <td>0.9839</td>\n",
       "      <td>7.28086</td>\n",
       "      <td>2021-01-01 00:05:01</td>\n",
       "      <td>00:05</td>\n",
       "      <td>2021-01-01</td>\n",
       "      <td>2021</td>\n",
       "      <td>1</td>\n",
       "      <td>1</td>\n",
       "      <td>-4.2</td>\n",
       "      <td>-13.1</td>\n",
       "    </tr>\n",
       "    <tr>\n",
       "      <th>1</th>\n",
       "      <td>N8018</td>\n",
       "      <td>04-Jan-21</td>\n",
       "      <td>17:12:22</td>\n",
       "      <td>DIESEL</td>\n",
       "      <td>Fuel - Kathleen Andrews Transit</td>\n",
       "      <td>ELECTRIC BUS</td>\n",
       "      <td>9.6</td>\n",
       "      <td>0.9876</td>\n",
       "      <td>9.48096</td>\n",
       "      <td>2021-01-04 17:12:22</td>\n",
       "      <td>17:12</td>\n",
       "      <td>2021-01-04</td>\n",
       "      <td>2021</td>\n",
       "      <td>1</td>\n",
       "      <td>4</td>\n",
       "      <td>-4.4</td>\n",
       "      <td>-13.2</td>\n",
       "    </tr>\n",
       "    <tr>\n",
       "      <th>2</th>\n",
       "      <td>N8037</td>\n",
       "      <td>04-Jan-21</td>\n",
       "      <td>17:46:49</td>\n",
       "      <td>DIESEL</td>\n",
       "      <td>Fuel - Kathleen Andrews Transit</td>\n",
       "      <td>ELECTRIC BUS</td>\n",
       "      <td>7.1</td>\n",
       "      <td>0.9876</td>\n",
       "      <td>7.01196</td>\n",
       "      <td>2021-01-04 17:46:49</td>\n",
       "      <td>17:46</td>\n",
       "      <td>2021-01-04</td>\n",
       "      <td>2021</td>\n",
       "      <td>1</td>\n",
       "      <td>4</td>\n",
       "      <td>-4.4</td>\n",
       "      <td>-13.2</td>\n",
       "    </tr>\n",
       "    <tr>\n",
       "      <th>3</th>\n",
       "      <td>N8023</td>\n",
       "      <td>04-Jan-21</td>\n",
       "      <td>18:11:02</td>\n",
       "      <td>DIESEL</td>\n",
       "      <td>Fuel - Kathleen Andrews Transit</td>\n",
       "      <td>ELECTRIC BUS</td>\n",
       "      <td>9.4</td>\n",
       "      <td>0.9876</td>\n",
       "      <td>9.28344</td>\n",
       "      <td>2021-01-04 18:11:02</td>\n",
       "      <td>18:11</td>\n",
       "      <td>2021-01-04</td>\n",
       "      <td>2021</td>\n",
       "      <td>1</td>\n",
       "      <td>4</td>\n",
       "      <td>-4.4</td>\n",
       "      <td>-13.2</td>\n",
       "    </tr>\n",
       "    <tr>\n",
       "      <th>4</th>\n",
       "      <td>N8013</td>\n",
       "      <td>04-Jan-21</td>\n",
       "      <td>18:53:42</td>\n",
       "      <td>DIESEL</td>\n",
       "      <td>Fuel - Kathleen Andrews Transit</td>\n",
       "      <td>ELECTRIC BUS</td>\n",
       "      <td>9.2</td>\n",
       "      <td>0.9876</td>\n",
       "      <td>9.08592</td>\n",
       "      <td>2021-01-04 18:53:42</td>\n",
       "      <td>18:53</td>\n",
       "      <td>2021-01-04</td>\n",
       "      <td>2021</td>\n",
       "      <td>1</td>\n",
       "      <td>4</td>\n",
       "      <td>-4.4</td>\n",
       "      <td>-13.2</td>\n",
       "    </tr>\n",
       "    <tr>\n",
       "      <th>...</th>\n",
       "      <td>...</td>\n",
       "      <td>...</td>\n",
       "      <td>...</td>\n",
       "      <td>...</td>\n",
       "      <td>...</td>\n",
       "      <td>...</td>\n",
       "      <td>...</td>\n",
       "      <td>...</td>\n",
       "      <td>...</td>\n",
       "      <td>...</td>\n",
       "      <td>...</td>\n",
       "      <td>...</td>\n",
       "      <td>...</td>\n",
       "      <td>...</td>\n",
       "      <td>...</td>\n",
       "      <td>...</td>\n",
       "      <td>...</td>\n",
       "    </tr>\n",
       "    <tr>\n",
       "      <th>2778</th>\n",
       "      <td>N8000</td>\n",
       "      <td>24-Dec-21</td>\n",
       "      <td>18:41:19</td>\n",
       "      <td>DIESEL</td>\n",
       "      <td>Fuel - Centennial Transit</td>\n",
       "      <td>ELECTRIC BUS</td>\n",
       "      <td>8.9</td>\n",
       "      <td>0.9287</td>\n",
       "      <td>8.26543</td>\n",
       "      <td>2021-12-24 18:41:19</td>\n",
       "      <td>18:41</td>\n",
       "      <td>2021-12-24</td>\n",
       "      <td>2021</td>\n",
       "      <td>12</td>\n",
       "      <td>24</td>\n",
       "      <td>-17.1</td>\n",
       "      <td>-24.8</td>\n",
       "    </tr>\n",
       "    <tr>\n",
       "      <th>2779</th>\n",
       "      <td>N8002</td>\n",
       "      <td>28-Dec-21</td>\n",
       "      <td>19:38:17</td>\n",
       "      <td>DIESEL</td>\n",
       "      <td>Fuel - Centennial Transit</td>\n",
       "      <td>ELECTRIC BUS</td>\n",
       "      <td>17.9</td>\n",
       "      <td>0.9287</td>\n",
       "      <td>16.62373</td>\n",
       "      <td>2021-12-28 19:38:17</td>\n",
       "      <td>19:38</td>\n",
       "      <td>2021-12-28</td>\n",
       "      <td>2021</td>\n",
       "      <td>12</td>\n",
       "      <td>28</td>\n",
       "      <td>-22.8</td>\n",
       "      <td>-42.1</td>\n",
       "    </tr>\n",
       "    <tr>\n",
       "      <th>2780</th>\n",
       "      <td>N8012</td>\n",
       "      <td>29-Dec-21</td>\n",
       "      <td>12:32:26</td>\n",
       "      <td>DIESEL</td>\n",
       "      <td>Fuel - Kathleen Andrews Transit</td>\n",
       "      <td>ELECTRIC BUS</td>\n",
       "      <td>8.0</td>\n",
       "      <td>0.9287</td>\n",
       "      <td>7.42960</td>\n",
       "      <td>2021-12-29 12:32:26</td>\n",
       "      <td>12:32</td>\n",
       "      <td>2021-12-29</td>\n",
       "      <td>2021</td>\n",
       "      <td>12</td>\n",
       "      <td>29</td>\n",
       "      <td>-22.1</td>\n",
       "      <td>-32.9</td>\n",
       "    </tr>\n",
       "    <tr>\n",
       "      <th>2781</th>\n",
       "      <td>N8006</td>\n",
       "      <td>30-Dec-21</td>\n",
       "      <td>19:45:34</td>\n",
       "      <td>DIESEL</td>\n",
       "      <td>Fuel - Centennial Transit</td>\n",
       "      <td>ELECTRIC BUS</td>\n",
       "      <td>36.4</td>\n",
       "      <td>0.9287</td>\n",
       "      <td>33.80468</td>\n",
       "      <td>2021-12-30 19:45:34</td>\n",
       "      <td>19:45</td>\n",
       "      <td>2021-12-30</td>\n",
       "      <td>2021</td>\n",
       "      <td>12</td>\n",
       "      <td>30</td>\n",
       "      <td>-21.7</td>\n",
       "      <td>-37.6</td>\n",
       "    </tr>\n",
       "    <tr>\n",
       "      <th>2782</th>\n",
       "      <td>N8004</td>\n",
       "      <td>30-Dec-21</td>\n",
       "      <td>19:56:18</td>\n",
       "      <td>DIESEL</td>\n",
       "      <td>Fuel - Centennial Transit</td>\n",
       "      <td>ELECTRIC BUS</td>\n",
       "      <td>16.9</td>\n",
       "      <td>0.9287</td>\n",
       "      <td>15.69503</td>\n",
       "      <td>2021-12-30 19:56:18</td>\n",
       "      <td>19:56</td>\n",
       "      <td>2021-12-30</td>\n",
       "      <td>2021</td>\n",
       "      <td>12</td>\n",
       "      <td>30</td>\n",
       "      <td>-21.7</td>\n",
       "      <td>-37.6</td>\n",
       "    </tr>\n",
       "  </tbody>\n",
       "</table>\n",
       "<p>2783 rows × 17 columns</p>\n",
       "</div>"
      ],
      "text/plain": [
       "     Unit No Transaction Day Time of Transaction    Fuel  \\\n",
       "0      N8013       01-Jan-21            00:05:01  DIESEL   \n",
       "1      N8018       04-Jan-21            17:12:22  DIESEL   \n",
       "2      N8037       04-Jan-21            17:46:49  DIESEL   \n",
       "3      N8023       04-Jan-21            18:11:02  DIESEL   \n",
       "4      N8013       04-Jan-21            18:53:42  DIESEL   \n",
       "...      ...             ...                 ...     ...   \n",
       "2778   N8000       24-Dec-21            18:41:19  DIESEL   \n",
       "2779   N8002       28-Dec-21            19:38:17  DIESEL   \n",
       "2780   N8012       29-Dec-21            12:32:26  DIESEL   \n",
       "2781   N8006       30-Dec-21            19:45:34  DIESEL   \n",
       "2782   N8004       30-Dec-21            19:56:18  DIESEL   \n",
       "\n",
       "                             Loc Desc Category Description  Issue Qty  \\\n",
       "0     Fuel - Kathleen Andrews Transit         ELECTRIC BUS        7.4   \n",
       "1     Fuel - Kathleen Andrews Transit         ELECTRIC BUS        9.6   \n",
       "2     Fuel - Kathleen Andrews Transit         ELECTRIC BUS        7.1   \n",
       "3     Fuel - Kathleen Andrews Transit         ELECTRIC BUS        9.4   \n",
       "4     Fuel - Kathleen Andrews Transit         ELECTRIC BUS        9.2   \n",
       "...                               ...                  ...        ...   \n",
       "2778        Fuel - Centennial Transit         ELECTRIC BUS        8.9   \n",
       "2779        Fuel - Centennial Transit         ELECTRIC BUS       17.9   \n",
       "2780  Fuel - Kathleen Andrews Transit         ELECTRIC BUS        8.0   \n",
       "2781        Fuel - Centennial Transit         ELECTRIC BUS       36.4   \n",
       "2782        Fuel - Centennial Transit         ELECTRIC BUS       16.9   \n",
       "\n",
       "      Total $/L  Total Do       datetimeindex   time       date  Year  Month  \\\n",
       "0        0.9839   7.28086 2021-01-01 00:05:01  00:05 2021-01-01  2021      1   \n",
       "1        0.9876   9.48096 2021-01-04 17:12:22  17:12 2021-01-04  2021      1   \n",
       "2        0.9876   7.01196 2021-01-04 17:46:49  17:46 2021-01-04  2021      1   \n",
       "3        0.9876   9.28344 2021-01-04 18:11:02  18:11 2021-01-04  2021      1   \n",
       "4        0.9876   9.08592 2021-01-04 18:53:42  18:53 2021-01-04  2021      1   \n",
       "...         ...       ...                 ...    ...        ...   ...    ...   \n",
       "2778     0.9287   8.26543 2021-12-24 18:41:19  18:41 2021-12-24  2021     12   \n",
       "2779     0.9287  16.62373 2021-12-28 19:38:17  19:38 2021-12-28  2021     12   \n",
       "2780     0.9287   7.42960 2021-12-29 12:32:26  12:32 2021-12-29  2021     12   \n",
       "2781     0.9287  33.80468 2021-12-30 19:45:34  19:45 2021-12-30  2021     12   \n",
       "2782     0.9287  15.69503 2021-12-30 19:56:18  19:56 2021-12-30  2021     12   \n",
       "\n",
       "      Day  Max Temp (°C)  Min Temp (°C)  \n",
       "0       1           -4.2          -13.1  \n",
       "1       4           -4.4          -13.2  \n",
       "2       4           -4.4          -13.2  \n",
       "3       4           -4.4          -13.2  \n",
       "4       4           -4.4          -13.2  \n",
       "...   ...            ...            ...  \n",
       "2778   24          -17.1          -24.8  \n",
       "2779   28          -22.8          -42.1  \n",
       "2780   29          -22.1          -32.9  \n",
       "2781   30          -21.7          -37.6  \n",
       "2782   30          -21.7          -37.6  \n",
       "\n",
       "[2783 rows x 17 columns]"
      ]
     },
     "execution_count": 110,
     "metadata": {},
     "output_type": "execute_result"
    }
   ],
   "source": [
    "df = pd.merge_asof(ebus.sort_values('datetimeindex'), temps, left_on=\"datetimeindex\", right_on=\"date\")\n",
    "df"
   ]
  },
  {
   "cell_type": "code",
   "execution_count": 111,
   "id": "040aeba2-d003-47bb-a9fa-4c1340fb01fa",
   "metadata": {},
   "outputs": [
    {
     "data": {
      "text/html": [
       "<div>\n",
       "<style scoped>\n",
       "    .dataframe tbody tr th:only-of-type {\n",
       "        vertical-align: middle;\n",
       "    }\n",
       "\n",
       "    .dataframe tbody tr th {\n",
       "        vertical-align: top;\n",
       "    }\n",
       "\n",
       "    .dataframe thead th {\n",
       "        text-align: right;\n",
       "    }\n",
       "</style>\n",
       "<table border=\"1\" class=\"dataframe\">\n",
       "  <thead>\n",
       "    <tr style=\"text-align: right;\">\n",
       "      <th></th>\n",
       "      <th>Unit No</th>\n",
       "      <th>Transaction Day</th>\n",
       "      <th>Time of Transaction</th>\n",
       "      <th>Fuel</th>\n",
       "      <th>Loc Desc</th>\n",
       "      <th>Category Description</th>\n",
       "      <th>Issue Qty</th>\n",
       "      <th>Total $/L</th>\n",
       "      <th>Total Do</th>\n",
       "      <th>datetimeindex</th>\n",
       "      <th>...</th>\n",
       "      <th>Ave Temp (EnviroCanada)</th>\n",
       "      <th>Energy Charged (kWH)</th>\n",
       "      <th>Regenerated kWH</th>\n",
       "      <th>Energy Consumed (kWH)</th>\n",
       "      <th>kWH for components</th>\n",
       "      <th>Hours Charging</th>\n",
       "      <th>Hours Moving</th>\n",
       "      <th>Hours Stopped</th>\n",
       "      <th>Hours Operating</th>\n",
       "      <th>datetime</th>\n",
       "    </tr>\n",
       "  </thead>\n",
       "  <tbody>\n",
       "    <tr>\n",
       "      <th>0</th>\n",
       "      <td>N8000</td>\n",
       "      <td>26-May-21</td>\n",
       "      <td>15:19:21</td>\n",
       "      <td>DIESEL</td>\n",
       "      <td>Fuel - Centennial Transit</td>\n",
       "      <td>ELECTRIC BUS</td>\n",
       "      <td>0.5</td>\n",
       "      <td>0.9723</td>\n",
       "      <td>0.48615</td>\n",
       "      <td>2021-05-26 15:19:21</td>\n",
       "      <td>...</td>\n",
       "      <td>12.45</td>\n",
       "      <td>53.67020</td>\n",
       "      <td>15.5316</td>\n",
       "      <td>46.0757</td>\n",
       "      <td>65.620510</td>\n",
       "      <td>2.933056</td>\n",
       "      <td>1.110000</td>\n",
       "      <td>0.787778</td>\n",
       "      <td>4.830833</td>\n",
       "      <td>2021-05-26</td>\n",
       "    </tr>\n",
       "    <tr>\n",
       "      <th>1</th>\n",
       "      <td>N8000</td>\n",
       "      <td>26-May-21</td>\n",
       "      <td>15:20:14</td>\n",
       "      <td>DIESEL</td>\n",
       "      <td>Fuel - Centennial Transit</td>\n",
       "      <td>ELECTRIC BUS</td>\n",
       "      <td>18.5</td>\n",
       "      <td>0.9723</td>\n",
       "      <td>17.98755</td>\n",
       "      <td>2021-05-26 15:20:14</td>\n",
       "      <td>...</td>\n",
       "      <td>12.45</td>\n",
       "      <td>53.67020</td>\n",
       "      <td>15.5316</td>\n",
       "      <td>46.0757</td>\n",
       "      <td>65.620510</td>\n",
       "      <td>2.933056</td>\n",
       "      <td>1.110000</td>\n",
       "      <td>0.787778</td>\n",
       "      <td>4.830833</td>\n",
       "      <td>2021-05-26</td>\n",
       "    </tr>\n",
       "    <tr>\n",
       "      <th>2</th>\n",
       "      <td>N8000</td>\n",
       "      <td>27-Oct-21</td>\n",
       "      <td>16:54:01</td>\n",
       "      <td>DIESEL</td>\n",
       "      <td>Fuel - Centennial Transit</td>\n",
       "      <td>ELECTRIC BUS</td>\n",
       "      <td>23.4</td>\n",
       "      <td>0.9423</td>\n",
       "      <td>22.04982</td>\n",
       "      <td>2021-10-27 16:54:01</td>\n",
       "      <td>...</td>\n",
       "      <td>6.10</td>\n",
       "      <td>0.16747</td>\n",
       "      <td>29.6063</td>\n",
       "      <td>104.9460</td>\n",
       "      <td>239.375611</td>\n",
       "      <td>14.911667</td>\n",
       "      <td>4.387778</td>\n",
       "      <td>3.747778</td>\n",
       "      <td>10.109444</td>\n",
       "      <td>2021-10-27</td>\n",
       "    </tr>\n",
       "    <tr>\n",
       "      <th>3</th>\n",
       "      <td>N8000</td>\n",
       "      <td>20-Apr-21</td>\n",
       "      <td>15:50:03</td>\n",
       "      <td>DIESEL</td>\n",
       "      <td>Fuel - Centennial Transit</td>\n",
       "      <td>ELECTRIC BUS</td>\n",
       "      <td>19.5</td>\n",
       "      <td>0.8816</td>\n",
       "      <td>17.19120</td>\n",
       "      <td>2021-04-20 15:50:03</td>\n",
       "      <td>...</td>\n",
       "      <td>4.65</td>\n",
       "      <td>349.04900</td>\n",
       "      <td>35.6273</td>\n",
       "      <td>128.4740</td>\n",
       "      <td>78.358315</td>\n",
       "      <td>6.046389</td>\n",
       "      <td>2.500556</td>\n",
       "      <td>1.406111</td>\n",
       "      <td>9.953056</td>\n",
       "      <td>2021-04-20</td>\n",
       "    </tr>\n",
       "    <tr>\n",
       "      <th>4</th>\n",
       "      <td>N8000</td>\n",
       "      <td>22-Apr-21</td>\n",
       "      <td>15:45:16</td>\n",
       "      <td>DIESEL</td>\n",
       "      <td>Fuel - Centennial Transit</td>\n",
       "      <td>ELECTRIC BUS</td>\n",
       "      <td>6.2</td>\n",
       "      <td>0.8816</td>\n",
       "      <td>5.46592</td>\n",
       "      <td>2021-04-22 15:45:16</td>\n",
       "      <td>...</td>\n",
       "      <td>-0.15</td>\n",
       "      <td>168.62400</td>\n",
       "      <td>43.1418</td>\n",
       "      <td>226.9880</td>\n",
       "      <td>128.989974</td>\n",
       "      <td>5.145000</td>\n",
       "      <td>3.954167</td>\n",
       "      <td>5.164722</td>\n",
       "      <td>14.263889</td>\n",
       "      <td>2021-04-22</td>\n",
       "    </tr>\n",
       "    <tr>\n",
       "      <th>...</th>\n",
       "      <td>...</td>\n",
       "      <td>...</td>\n",
       "      <td>...</td>\n",
       "      <td>...</td>\n",
       "      <td>...</td>\n",
       "      <td>...</td>\n",
       "      <td>...</td>\n",
       "      <td>...</td>\n",
       "      <td>...</td>\n",
       "      <td>...</td>\n",
       "      <td>...</td>\n",
       "      <td>...</td>\n",
       "      <td>...</td>\n",
       "      <td>...</td>\n",
       "      <td>...</td>\n",
       "      <td>...</td>\n",
       "      <td>...</td>\n",
       "      <td>...</td>\n",
       "      <td>...</td>\n",
       "      <td>...</td>\n",
       "      <td>...</td>\n",
       "    </tr>\n",
       "    <tr>\n",
       "      <th>1752</th>\n",
       "      <td>N8039</td>\n",
       "      <td>26-Aug-21</td>\n",
       "      <td>00:49:18</td>\n",
       "      <td>DIESEL</td>\n",
       "      <td>Fuel - Kathleen Andrews Transit</td>\n",
       "      <td>ELECTRIC BUS</td>\n",
       "      <td>7.6</td>\n",
       "      <td>0.8686</td>\n",
       "      <td>6.60136</td>\n",
       "      <td>2021-08-26 00:49:18</td>\n",
       "      <td>...</td>\n",
       "      <td>17.35</td>\n",
       "      <td>397.57500</td>\n",
       "      <td>69.6402</td>\n",
       "      <td>205.3940</td>\n",
       "      <td>298.001056</td>\n",
       "      <td>9.008333</td>\n",
       "      <td>5.956944</td>\n",
       "      <td>4.314722</td>\n",
       "      <td>19.280000</td>\n",
       "      <td>2021-08-26</td>\n",
       "    </tr>\n",
       "    <tr>\n",
       "      <th>1753</th>\n",
       "      <td>N8039</td>\n",
       "      <td>10-May-21</td>\n",
       "      <td>18:01:48</td>\n",
       "      <td>DIESEL</td>\n",
       "      <td>Fuel - Kathleen Andrews Transit</td>\n",
       "      <td>ELECTRIC BUS</td>\n",
       "      <td>6.2</td>\n",
       "      <td>0.9552</td>\n",
       "      <td>5.92224</td>\n",
       "      <td>2021-05-10 18:01:48</td>\n",
       "      <td>...</td>\n",
       "      <td>9.05</td>\n",
       "      <td>292.90100</td>\n",
       "      <td>113.0050</td>\n",
       "      <td>273.6170</td>\n",
       "      <td>394.590743</td>\n",
       "      <td>3.470000</td>\n",
       "      <td>7.481389</td>\n",
       "      <td>5.121944</td>\n",
       "      <td>16.073333</td>\n",
       "      <td>2021-05-10</td>\n",
       "    </tr>\n",
       "    <tr>\n",
       "      <th>1754</th>\n",
       "      <td>N8039</td>\n",
       "      <td>03-Sep-21</td>\n",
       "      <td>17:33:06</td>\n",
       "      <td>DIESEL</td>\n",
       "      <td>Fuel - Kathleen Andrews Transit</td>\n",
       "      <td>ELECTRIC BUS</td>\n",
       "      <td>10.3</td>\n",
       "      <td>0.8939</td>\n",
       "      <td>9.20717</td>\n",
       "      <td>2021-09-03 17:33:06</td>\n",
       "      <td>...</td>\n",
       "      <td>13.50</td>\n",
       "      <td>296.36600</td>\n",
       "      <td>74.3204</td>\n",
       "      <td>195.4880</td>\n",
       "      <td>285.326975</td>\n",
       "      <td>8.753056</td>\n",
       "      <td>6.339444</td>\n",
       "      <td>5.156667</td>\n",
       "      <td>20.249444</td>\n",
       "      <td>2021-09-03</td>\n",
       "    </tr>\n",
       "    <tr>\n",
       "      <th>1755</th>\n",
       "      <td>N8039</td>\n",
       "      <td>20-May-21</td>\n",
       "      <td>22:19:33</td>\n",
       "      <td>DIESEL</td>\n",
       "      <td>Fuel - Kathleen Andrews Transit</td>\n",
       "      <td>ELECTRIC BUS</td>\n",
       "      <td>8.2</td>\n",
       "      <td>0.9726</td>\n",
       "      <td>7.97532</td>\n",
       "      <td>2021-05-20 22:19:33</td>\n",
       "      <td>...</td>\n",
       "      <td>2.80</td>\n",
       "      <td>68.37470</td>\n",
       "      <td>74.6252</td>\n",
       "      <td>224.4150</td>\n",
       "      <td>303.292030</td>\n",
       "      <td>5.212500</td>\n",
       "      <td>5.239722</td>\n",
       "      <td>4.706667</td>\n",
       "      <td>15.159167</td>\n",
       "      <td>2021-05-20</td>\n",
       "    </tr>\n",
       "    <tr>\n",
       "      <th>1756</th>\n",
       "      <td>N8039</td>\n",
       "      <td>15-Oct-21</td>\n",
       "      <td>11:53:11</td>\n",
       "      <td>DIESEL</td>\n",
       "      <td>Fuel - Kathleen Andrews Transit</td>\n",
       "      <td>ELECTRIC BUS</td>\n",
       "      <td>8.0</td>\n",
       "      <td>0.9430</td>\n",
       "      <td>7.54400</td>\n",
       "      <td>2021-10-15 11:53:11</td>\n",
       "      <td>...</td>\n",
       "      <td>7.00</td>\n",
       "      <td>0.00000</td>\n",
       "      <td>63.9809</td>\n",
       "      <td>183.7380</td>\n",
       "      <td>650.057481</td>\n",
       "      <td>13.494167</td>\n",
       "      <td>11.883611</td>\n",
       "      <td>11.866944</td>\n",
       "      <td>17.451944</td>\n",
       "      <td>2021-10-15</td>\n",
       "    </tr>\n",
       "  </tbody>\n",
       "</table>\n",
       "<p>1757 rows × 37 columns</p>\n",
       "</div>"
      ],
      "text/plain": [
       "     Unit No Transaction Day Time of Transaction    Fuel  \\\n",
       "0      N8000       26-May-21            15:19:21  DIESEL   \n",
       "1      N8000       26-May-21            15:20:14  DIESEL   \n",
       "2      N8000       27-Oct-21            16:54:01  DIESEL   \n",
       "3      N8000       20-Apr-21            15:50:03  DIESEL   \n",
       "4      N8000       22-Apr-21            15:45:16  DIESEL   \n",
       "...      ...             ...                 ...     ...   \n",
       "1752   N8039       26-Aug-21            00:49:18  DIESEL   \n",
       "1753   N8039       10-May-21            18:01:48  DIESEL   \n",
       "1754   N8039       03-Sep-21            17:33:06  DIESEL   \n",
       "1755   N8039       20-May-21            22:19:33  DIESEL   \n",
       "1756   N8039       15-Oct-21            11:53:11  DIESEL   \n",
       "\n",
       "                             Loc Desc Category Description  Issue Qty  \\\n",
       "0           Fuel - Centennial Transit         ELECTRIC BUS        0.5   \n",
       "1           Fuel - Centennial Transit         ELECTRIC BUS       18.5   \n",
       "2           Fuel - Centennial Transit         ELECTRIC BUS       23.4   \n",
       "3           Fuel - Centennial Transit         ELECTRIC BUS       19.5   \n",
       "4           Fuel - Centennial Transit         ELECTRIC BUS        6.2   \n",
       "...                               ...                  ...        ...   \n",
       "1752  Fuel - Kathleen Andrews Transit         ELECTRIC BUS        7.6   \n",
       "1753  Fuel - Kathleen Andrews Transit         ELECTRIC BUS        6.2   \n",
       "1754  Fuel - Kathleen Andrews Transit         ELECTRIC BUS       10.3   \n",
       "1755  Fuel - Kathleen Andrews Transit         ELECTRIC BUS        8.2   \n",
       "1756  Fuel - Kathleen Andrews Transit         ELECTRIC BUS        8.0   \n",
       "\n",
       "      Total $/L  Total Do       datetimeindex  ... Ave Temp (EnviroCanada)  \\\n",
       "0        0.9723   0.48615 2021-05-26 15:19:21  ...                   12.45   \n",
       "1        0.9723  17.98755 2021-05-26 15:20:14  ...                   12.45   \n",
       "2        0.9423  22.04982 2021-10-27 16:54:01  ...                    6.10   \n",
       "3        0.8816  17.19120 2021-04-20 15:50:03  ...                    4.65   \n",
       "4        0.8816   5.46592 2021-04-22 15:45:16  ...                   -0.15   \n",
       "...         ...       ...                 ...  ...                     ...   \n",
       "1752     0.8686   6.60136 2021-08-26 00:49:18  ...                   17.35   \n",
       "1753     0.9552   5.92224 2021-05-10 18:01:48  ...                    9.05   \n",
       "1754     0.8939   9.20717 2021-09-03 17:33:06  ...                   13.50   \n",
       "1755     0.9726   7.97532 2021-05-20 22:19:33  ...                    2.80   \n",
       "1756     0.9430   7.54400 2021-10-15 11:53:11  ...                    7.00   \n",
       "\n",
       "     Energy Charged (kWH)  Regenerated kWH  Energy Consumed (kWH)  \\\n",
       "0                53.67020          15.5316                46.0757   \n",
       "1                53.67020          15.5316                46.0757   \n",
       "2                 0.16747          29.6063               104.9460   \n",
       "3               349.04900          35.6273               128.4740   \n",
       "4               168.62400          43.1418               226.9880   \n",
       "...                   ...              ...                    ...   \n",
       "1752            397.57500          69.6402               205.3940   \n",
       "1753            292.90100         113.0050               273.6170   \n",
       "1754            296.36600          74.3204               195.4880   \n",
       "1755             68.37470          74.6252               224.4150   \n",
       "1756              0.00000          63.9809               183.7380   \n",
       "\n",
       "      kWH for components  Hours Charging  Hours Moving Hours Stopped  \\\n",
       "0              65.620510        2.933056      1.110000      0.787778   \n",
       "1              65.620510        2.933056      1.110000      0.787778   \n",
       "2             239.375611       14.911667      4.387778      3.747778   \n",
       "3              78.358315        6.046389      2.500556      1.406111   \n",
       "4             128.989974        5.145000      3.954167      5.164722   \n",
       "...                  ...             ...           ...           ...   \n",
       "1752          298.001056        9.008333      5.956944      4.314722   \n",
       "1753          394.590743        3.470000      7.481389      5.121944   \n",
       "1754          285.326975        8.753056      6.339444      5.156667   \n",
       "1755          303.292030        5.212500      5.239722      4.706667   \n",
       "1756          650.057481       13.494167     11.883611     11.866944   \n",
       "\n",
       "     Hours Operating   datetime  \n",
       "0           4.830833 2021-05-26  \n",
       "1           4.830833 2021-05-26  \n",
       "2          10.109444 2021-10-27  \n",
       "3           9.953056 2021-04-20  \n",
       "4          14.263889 2021-04-22  \n",
       "...              ...        ...  \n",
       "1752       19.280000 2021-08-26  \n",
       "1753       16.073333 2021-05-10  \n",
       "1754       20.249444 2021-09-03  \n",
       "1755       15.159167 2021-05-20  \n",
       "1756       17.451944 2021-10-15  \n",
       "\n",
       "[1757 rows x 37 columns]"
      ]
     },
     "execution_count": 111,
     "metadata": {},
     "output_type": "execute_result"
    }
   ],
   "source": [
    "df = pd.merge(df.sort_values('Unit No'), trips.sort_values('Unit No'), left_on=[\"Unit No\", \"date\",], right_on=[ \"Unit No\", \"datetime\",])\n",
    "#df_2 = pd.merge(ebus, trips, on=\"datetimeindex\")\n",
    "df"
   ]
  },
  {
   "cell_type": "code",
   "execution_count": 112,
   "id": "5a171137-1147-4d8b-bff5-fec625b9d16c",
   "metadata": {},
   "outputs": [
    {
     "data": {
      "text/plain": [
       "<AxesSubplot:xlabel='date', ylabel='Min Temp (°C)'>"
      ]
     },
     "execution_count": 112,
     "metadata": {},
     "output_type": "execute_result"
    },
    {
     "data": {
      "image/png": "[encoded data removed]",
      "text/plain": [
       "<Figure size 432x288 with 2 Axes>"
      ]
     },
     "metadata": {
      "needs_background": "light"
     },
     "output_type": "display_data"
    }
   ],
   "source": [
    "ebus_sum = df.resample('W', on='datetimeindex').sum()\n",
    "sns.lineplot(x=ebus_sum.index.values, y=ebus_sum['Total Do'])\n",
    "ax2 = plt.twinx()\n",
    "#sns.lineplot(x=df[\"Date/Time\"], y=df[\"Max Temp (°C)\"], color='red')\n",
    "sns.lineplot(x=df[\"date\"], y=df[\"Min Temp (°C)\"], color='red')"
   ]
  },
  {
   "cell_type": "code",
   "execution_count": 113,
   "id": "18f51180-5a90-4620-a012-8f6b7b9147cb",
   "metadata": {},
   "outputs": [
    {
     "data": {
      "text/plain": [
       "<seaborn.axisgrid.PairGrid at 0x1e41a872d60>"
      ]
     },
     "execution_count": 113,
     "metadata": {},
     "output_type": "execute_result"
    },
    {
     "data": {
      "image/png": "[encoded data removed]",
      "text/plain": [
       "<Figure size 900x360 with 12 Axes>"
      ]
     },
     "metadata": {
      "needs_background": "light"
     },
     "output_type": "display_data"
    }
   ],
   "source": [
    "sns.pairplot(df, kind='hist',x_vars=['date', \"Issue Qty\", \"Total Do\", \"Min Temp (°C)\", \"Max Temp (°C)\"], y_vars=[ \"Issue Qty\", \"Total Do\"])"
   ]
  },
  {
   "cell_type": "code",
   "execution_count": 114,
   "id": "480c3104-1eb7-4b3d-b86c-f50c8753a972",
   "metadata": {},
   "outputs": [
    {
     "name": "stdout",
     "output_type": "stream",
     "text": [
      "<class 'pandas.core.frame.DataFrame'>\n",
      "Int64Index: 1757 entries, 0 to 1756\n",
      "Data columns (total 37 columns):\n",
      " #   Column                    Non-Null Count  Dtype         \n",
      "---  ------                    --------------  -----         \n",
      " 0   Unit No                   1757 non-null   object        \n",
      " 1   Transaction Day           1757 non-null   object        \n",
      " 2   Time of Transaction       1757 non-null   object        \n",
      " 3   Fuel                      1757 non-null   object        \n",
      " 4   Loc Desc                  1757 non-null   object        \n",
      " 5   Category Description      1757 non-null   object        \n",
      " 6   Issue Qty                 1757 non-null   float64       \n",
      " 7   Total $/L                 1757 non-null   float64       \n",
      " 8   Total Do                  1757 non-null   float64       \n",
      " 9   datetimeindex             1757 non-null   datetime64[ns]\n",
      " 10  time                      1757 non-null   object        \n",
      " 11  date                      1757 non-null   datetime64[ns]\n",
      " 12  Year                      1757 non-null   int64         \n",
      " 13  Month                     1757 non-null   int64         \n",
      " 14  Day                       1757 non-null   int64         \n",
      " 15  Max Temp (°C)             1751 non-null   float64       \n",
      " 16  Min Temp (°C)             1751 non-null   float64       \n",
      " 17  Date                      1757 non-null   object        \n",
      " 18  Daily Route Status        1757 non-null   object        \n",
      " 19  Start of Day Odometer     1247 non-null   float64       \n",
      " 20  End of Day Odometer       1655 non-null   float64       \n",
      " 21  Kilometers                1757 non-null   float64       \n",
      " 22  Average Net kWH per KM    1750 non-null   float64       \n",
      " 23  Average Gross kWH per KM  1750 non-null   float64       \n",
      " 24  Start of Day SOC          1275 non-null   float64       \n",
      " 25  End of Day SOC            1695 non-null   float64       \n",
      " 26  Ave Ambient Temp (C)      1643 non-null   float64       \n",
      " 27  Ave Temp (EnviroCanada)   1757 non-null   float64       \n",
      " 28  Energy Charged (kWH)      1757 non-null   float64       \n",
      " 29  Regenerated kWH           1757 non-null   float64       \n",
      " 30  Energy Consumed (kWH)     1757 non-null   float64       \n",
      " 31  kWH for components        1757 non-null   float64       \n",
      " 32  Hours Charging            1757 non-null   float64       \n",
      " 33  Hours Moving              1757 non-null   float64       \n",
      " 34  Hours Stopped             1757 non-null   float64       \n",
      " 35  Hours Operating           1757 non-null   float64       \n",
      " 36  datetime                  1757 non-null   datetime64[ns]\n",
      "dtypes: datetime64[ns](3), float64(22), int64(3), object(9)\n",
      "memory usage: 521.6+ KB\n"
     ]
    }
   ],
   "source": [
    "df.info()"
   ]
  },
  {
   "cell_type": "code",
   "execution_count": 115,
   "id": "ece8b732-f12c-4f8c-8ca4-9eb88d042223",
   "metadata": {},
   "outputs": [
    {
     "data": {
      "text/plain": [
       "<AxesSubplot:>"
      ]
     },
     "execution_count": 115,
     "metadata": {},
     "output_type": "execute_result"
    },
    {
     "data": {
      "image/png": "[encoded data removed]",
      "text/plain": [
       "<Figure size 792x648 with 2 Axes>"
      ]
     },
     "metadata": {
      "needs_background": "light"
     },
     "output_type": "display_data"
    }
   ],
   "source": [
    "corr = df.corr()\n",
    "\n",
    "# Generate a mask for the upper triangle\n",
    "mask = np.triu(np.ones_like(corr, dtype=bool))\n",
    "\n",
    "# Set up the matplotlib figure\n",
    "f, ax = plt.subplots(figsize=(11, 9))\n",
    "\n",
    "# Generate a custom diverging colormap\n",
    "cmap = sns.diverging_palette(230, 20, as_cmap=True)\n",
    "\n",
    "# Draw the heatmap with the mask and correct aspect ratio\n",
    "sns.heatmap(corr, mask=mask, cmap=cmap, vmax=.3, center=0,\n",
    "            square=True, linewidths=.5, cbar_kws={\"shrink\": .5})"
   ]
  },
  {
   "cell_type": "code",
   "execution_count": 116,
   "id": "5a93cd9f-e7a5-40d4-a403-ce74485e1e29",
   "metadata": {},
   "outputs": [],
   "source": [
    "df['hourly_cons'] = df[\"Total Do\"] / df[\"Hours Operating\"]"
   ]
  },
  {
   "cell_type": "code",
   "execution_count": 117,
   "id": "5932f814-023f-4cdc-903b-a2d3de20aa1e",
   "metadata": {},
   "outputs": [
    {
     "data": {
      "text/plain": [
       "count    1753.000000\n",
       "mean        1.072158\n",
       "std        23.145568\n",
       "min         0.003580\n",
       "25%         0.204027\n",
       "50%         0.368398\n",
       "75%         0.666507\n",
       "max       969.334500\n",
       "Name: hourly_cons, dtype: float64"
      ]
     },
     "execution_count": 117,
     "metadata": {},
     "output_type": "execute_result"
    }
   ],
   "source": [
    "df['hourly_cons'].replace([np.inf, -np.inf], np.nan, inplace=True)\n",
    "df.hourly_cons.describe()"
   ]
  },
  {
   "cell_type": "code",
   "execution_count": 118,
   "id": "bf21df92-8e11-413a-8565-c202059bf330",
   "metadata": {},
   "outputs": [],
   "source": [
    "df['hourly_cons'] = np.where(df.hourly_cons > 500,  df[\"Total Do\"] / df[\"Hours Charging\"] , df[\"Total Do\"] / df[\"Hours Operating\"])"
   ]
  },
  {
   "cell_type": "code",
   "execution_count": 119,
   "id": "8361389e-6c26-4b61-bdf2-a7180d9f5bc2",
   "metadata": {},
   "outputs": [
    {
     "data": {
      "text/plain": [
       "<AxesSubplot:>"
      ]
     },
     "execution_count": 119,
     "metadata": {},
     "output_type": "execute_result"
    },
    {
     "data": {
      "text/plain": [
       "<Figure size 864x432 with 0 Axes>"
      ]
     },
     "metadata": {},
     "output_type": "display_data"
    },
    {
     "data": {
      "image/png": "[encoded data removed]",
      "text/plain": [
       "<Figure size 792x648 with 2 Axes>"
      ]
     },
     "metadata": {
      "needs_background": "light"
     },
     "output_type": "display_data"
    }
   ],
   "source": [
    "plt.figure(figsize=(12,6))\n",
    "df_ave = df.resample('W', on='datetimeindex').mean()\n",
    "df_ave['datetimefield'] = df_ave.index.values\n",
    "\n",
    "corr = df_ave.corr()\n",
    "\n",
    "# Generate a mask for the upper triangle\n",
    "mask = np.triu(np.ones_like(corr, dtype=bool))\n",
    "\n",
    "# Set up the matplotlib figure\n",
    "f, ax = plt.subplots(figsize=(11, 9))\n",
    "\n",
    "# Generate a custom diverging colormap\n",
    "cmap = sns.diverging_palette(230, 20, as_cmap=True)\n",
    "\n",
    "# Draw the heatmap with the mask and correct aspect ratio\n",
    "sns.heatmap(corr, mask=mask, cmap=cmap, vmax=.3, center=0,\n",
    "            square=True, linewidths=.5, cbar_kws={\"shrink\": .5})"
   ]
  },
  {
   "cell_type": "code",
   "execution_count": 120,
   "id": "72c90d30-96cc-4560-bcbf-694fba04903f",
   "metadata": {},
   "outputs": [
    {
     "data": {
      "image/png": "[encoded data removed]",
      "text/plain": [
       "<Figure size 720x360 with 2 Axes>"
      ]
     },
     "metadata": {
      "needs_background": "light"
     },
     "output_type": "display_data"
    }
   ],
   "source": [
    "plt.figure(figsize=(10,5))\n",
    "p = sns.lineplot(x=df_ave.index.values, y=df_ave.hourly_cons, color='gold', legend=\"full\", label='Hourly Fuel Consumption')\n",
    "ax2 = plt.twinx()\n",
    "sns.lineplot(x=df_ave.index.values, y=df_ave['Ave Ambient Temp (C)'], color='green')\n",
    "p.set_ylabel(\"Average Hourly Fuel Consumption\")\n",
    "p.set_xlabel(\"Time\")\n",
    "p.set_title(\"Weekly Average - Hourly Fuel Consumption and Ambient Temperature vs Time\")\n",
    "ax2.set_ylabel(\"Average Ambient Temperature (C)\")\n",
    "plt.show()"
   ]
  },
  {
   "cell_type": "code",
   "execution_count": 121,
   "id": "186933cd-0358-4ab7-b0c7-492175f33a79",
   "metadata": {},
   "outputs": [
    {
     "data": {
      "text/plain": [
       "<seaborn.axisgrid.FacetGrid at 0x1e41b280ac0>"
      ]
     },
     "execution_count": 121,
     "metadata": {},
     "output_type": "execute_result"
    },
    {
     "data": {
      "image/png": "[encoded data removed]",
      "text/plain": [
       "<Figure size 432x288 with 1 Axes>"
      ]
     },
     "metadata": {
      "needs_background": "light"
     },
     "output_type": "display_data"
    },
    {
     "data": {
      "image/png": "[encoded data removed]",
      "text/plain": [
       "<Figure size 360x360 with 1 Axes>"
      ]
     },
     "metadata": {
      "needs_background": "light"
     },
     "output_type": "display_data"
    }
   ],
   "source": [
    "p = sns.histplot(x=df_ave['Ave Ambient Temp (C)'], y=df_ave.hourly_cons)\n",
    "p.set_ylabel(\"Average Hourly Fuel Consumption\")\n",
    "p.set_xlabel(\"Average Ambient Temperature (C)\")\n",
    "p.set_title(\"Weekly Average - Hourly Fuel Consumption vs Ambient Temperature\")\n",
    "sns.lmplot(x='Ave Ambient Temp (C)', y=\"hourly_cons\", data=df_ave)"
   ]
  },
  {
   "cell_type": "code",
   "execution_count": 122,
   "id": "545c09a5-30f5-4365-b129-528e32fe1b60",
   "metadata": {},
   "outputs": [
    {
     "data": {
      "image/png": "[encoded data removed]",
      "text/plain": [
       "<Figure size 432x432 with 3 Axes>"
      ]
     },
     "metadata": {
      "needs_background": "light"
     },
     "output_type": "display_data"
    }
   ],
   "source": [
    "p = sns.jointplot(x='Ave Ambient Temp (C)', y=\"hourly_cons\", data=df_ave, kind=\"reg\")\n",
    "p.set_axis_labels('Average Ambient Temperature (C)', 'Hourly Diesel Consumption (L/Hr)')\n",
    "p.fig.suptitle(\"Weekly Average - Hourly Diesel Consumption vs Average Ambient Temperature\")\n",
    "p.fig.tight_layout()\n",
    "p.fig.subplots_adjust(top=0.95)"
   ]
  },
  {
   "cell_type": "code",
   "execution_count": 123,
   "id": "ea79b8aa",
   "metadata": {},
   "outputs": [
    {
     "data": {
      "image/png": "[encoded data removed]",
      "text/plain": [
       "<Figure size 432x432 with 3 Axes>"
      ]
     },
     "metadata": {
      "needs_background": "light"
     },
     "output_type": "display_data"
    }
   ],
   "source": [
    "p = sns.jointplot(x='Ave Temp (EnviroCanada)', y=\"hourly_cons\", data=df_ave, kind=\"reg\")\n",
    "p.set_axis_labels('Average EnviroCanada Temperature (C)', 'Hourly Diesel Consumption (L/Hr)')\n",
    "p.fig.suptitle(\"Weekly Average - Hourly Diesel Consumption vs Average EnviroCanada Temperature\")\n",
    "p.fig.tight_layout()\n",
    "p.fig.subplots_adjust(top=0.95)"
   ]
  },
  {
   "cell_type": "code",
   "execution_count": 124,
   "id": "f73f1c93-acf0-4f08-a6c5-478668659784",
   "metadata": {},
   "outputs": [
    {
     "data": {
      "application/vnd.plotly.v1+json": {
       "config": {
        "plotlyServerURL": "https://plot.ly"
       },
       "data": [
        {
         "hovertemplate": "Average Ambient Temperature (C)=%{x}<br>Hourly Diesel Consumption (L / Hr)=%{y}<extra></extra>",
         "legendgroup": "",
         "marker": {
          "color": "#636efa",
          "opacity": 0.65,
          "symbol": "circle"
         },
         "mode": "markers",
         "name": "",
         "orientation": "v",
         "showlegend": false,
         "type": "scatter",
         "x": [
          3.8018591545454545,
          3.4697825238095237,
          2.765300588888889,
          -9.158245625,
          -9.547833333333333,
          -14.203647619047619,
          -4.013971857142857,
          2.6851180769230774,
          5.0235796,
          3.3808333333333334,
          4.035101818181818,
          4.047960875,
          4.355028471428571,
          7.238201999999999,
          18.02396,
          6.974440869565217,
          10.324003235294118,
          13.463615151515151,
          18.59738666666667,
          10.040247575757576,
          16.777075362318843,
          25.47598888888889,
          15.341839130434783,
          19.84867777777778,
          23.622083333333332,
          30.254,
          22.472423529411767,
          27.5829,
          19.13491739130435,
          25.300546153846156,
          27.9176,
          null,
          19.403675,
          15.093784210526316,
          16.752526470588236,
          19.243993333333332,
          15.213868513513514,
          16.250440923076923,
          16.92750666666667,
          11.734054056603773,
          9.040769626168224,
          9.191022068965518,
          9.99695125,
          7.389699185185185,
          7.534339,
          0.773634631147541,
          null
         ],
         "xaxis": "x",
         "y": [
          0.7794088724768947,
          0.5079460463862504,
          0.8962930225985277,
          0.8651754050641031,
          0.7943836565204949,
          0.9707842774318876,
          0.7501257126055473,
          0.5020120183202742,
          0.5145839036245841,
          0.3816593271106407,
          1.6264238220732985,
          0.7307158020146359,
          0.7703589031423714,
          1.13908806063524,
          0.6505640212576493,
          0.7917083133707973,
          0.6427441399022366,
          null,
          0.44252463126913916,
          0.6038255899135516,
          0.290701400726902,
          0.12637727096833015,
          0.2611452888429406,
          null,
          0.4385889180543496,
          0.16869597096454889,
          0.23839060372946583,
          0.2831647855530474,
          0.17301419379396546,
          0.18868926574731335,
          0.0690044443299547,
          null,
          0.1666069076827607,
          null,
          0.3455980161700328,
          0.7634672216166201,
          0.2992642240908797,
          0.34899545262306775,
          0.33724515779230574,
          0.38028534292789895,
          0.433086185890361,
          0.531389938056226,
          0.6183491894587584,
          0.6016725073897459,
          0.6807936632690652,
          0.5978604385942107,
          0.6671200027917645
         ],
         "yaxis": "y"
        },
        {
         "hovertemplate": "<b>OLS trendline</b><br>hourly_cons = -0.0202048 * Ave Ambient Temp (C) + 0.762394<br>R<sup>2</sup>=0.469852<br><br>Average Ambient Temperature (C)=%{x}<br>Hourly Diesel Consumption (L / Hr)=%{y} <b>(trend)</b><extra></extra>",
         "legendgroup": "",
         "line": {
          "color": "darkblue"
         },
         "marker": {
          "color": "#636efa",
          "symbol": "circle"
         },
         "mode": "lines",
         "name": "",
         "showlegend": false,
         "type": "scatter",
         "x": [
          -14.203647619047619,
          -9.547833333333333,
          -9.158245625,
          -4.013971857142857,
          0.773634631147541,
          2.6851180769230774,
          2.765300588888889,
          3.3808333333333334,
          3.4697825238095237,
          3.8018591545454545,
          4.035101818181818,
          4.047960875,
          4.355028471428571,
          5.0235796,
          6.974440869565217,
          7.238201999999999,
          7.389699185185185,
          7.534339,
          9.040769626168224,
          9.191022068965518,
          9.99695125,
          10.040247575757576,
          10.324003235294118,
          11.734054056603773,
          15.213868513513514,
          15.341839130434783,
          16.250440923076923,
          16.752526470588236,
          16.777075362318843,
          16.92750666666667,
          18.02396,
          18.59738666666667,
          19.13491739130435,
          19.243993333333332,
          19.403675,
          22.472423529411767,
          23.622083333333332,
          25.300546153846156,
          25.47598888888889,
          27.5829,
          27.9176,
          30.254
         ],
         "xaxis": "x",
         "y": [
          1.049376020047375,
          0.9553063300783713,
          0.9474347972616303,
          0.843495892322307,
          0.7467633702737018,
          0.7081422732774755,
          0.7065222034940428,
          0.6940855015806254,
          0.6922883030117815,
          0.6855787687000003,
          0.6808661526656494,
          0.6806063382886258,
          0.6744021059410868,
          0.6608941793929614,
          0.6214774622434752,
          0.6161482273893261,
          0.6130872605278954,
          0.610164845306448,
          0.5797277502534359,
          0.5766919331345282,
          0.5604083136547928,
          0.5595335210426157,
          0.5538003011842858,
          0.5253105386076008,
          0.455001663076296,
          0.45241604528310714,
          0.4340579485692013,
          0.42391342198504856,
          0.42341741709901465,
          0.42037798612234245,
          0.3982243908965563,
          0.38663843290016314,
          0.3757777444120864,
          0.37357388931390795,
          0.3703475568282764,
          0.30834417674493336,
          0.2851155566394097,
          0.25120258944168194,
          0.24765780808229143,
          0.20508813866428877,
          0.19832559976121578,
          0.15111915849100488
         ],
         "yaxis": "y"
        }
       ],
       "layout": {
        "height": 400,
        "legend": {
         "tracegroupgap": 0
        },
        "template": {
         "data": {
          "bar": [
           {
            "error_x": {
             "color": "#2a3f5f"
            },
            "error_y": {
             "color": "#2a3f5f"
            },
            "marker": {
             "line": {
              "color": "#E5ECF6",
              "width": 0.5
             },
             "pattern": {
              "fillmode": "overlay",
              "size": 10,
              "solidity": 0.2
             }
            },
            "type": "bar"
           }
          ],
          "barpolar": [
           {
            "marker": {
             "line": {
              "color": "#E5ECF6",
              "width": 0.5
             },
             "pattern": {
              "fillmode": "overlay",
              "size": 10,
              "solidity": 0.2
             }
            },
            "type": "barpolar"
           }
          ],
          "carpet": [
           {
            "aaxis": {
             "endlinecolor": "#2a3f5f",
             "gridcolor": "white",
             "linecolor": "white",
             "minorgridcolor": "white",
             "startlinecolor": "#2a3f5f"
            },
            "baxis": {
             "endlinecolor": "#2a3f5f",
             "gridcolor": "white",
             "linecolor": "white",
             "minorgridcolor": "white",
             "startlinecolor": "#2a3f5f"
            },
            "type": "carpet"
           }
          ],
          "choropleth": [
           {
            "colorbar": {
             "outlinewidth": 0,
             "ticks": ""
            },
            "type": "choropleth"
           }
          ],
          "contour": [
           {
            "colorbar": {
             "outlinewidth": 0,
             "ticks": ""
            },
            "colorscale": [
             [
              0,
              "#0d0887"
             ],
             [
              0.1111111111111111,
              "#46039f"
             ],
             [
              0.2222222222222222,
              "#7201a8"
             ],
             [
              0.3333333333333333,
              "#9c179e"
             ],
             [
              0.4444444444444444,
              "#bd3786"
             ],
             [
              0.5555555555555556,
              "#d8576b"
             ],
             [
              0.6666666666666666,
              "#ed7953"
             ],
             [
              0.7777777777777778,
              "#fb9f3a"
             ],
             [
              0.8888888888888888,
              "#fdca26"
             ],
             [
              1,
              "#f0f921"
             ]
            ],
            "type": "contour"
           }
          ],
          "contourcarpet": [
           {
            "colorbar": {
             "outlinewidth": 0,
             "ticks": ""
            },
            "type": "contourcarpet"
           }
          ],
          "heatmap": [
           {
            "colorbar": {
             "outlinewidth": 0,
             "ticks": ""
            },
            "colorscale": [
             [
              0,
              "#0d0887"
             ],
             [
              0.1111111111111111,
              "#46039f"
             ],
             [
              0.2222222222222222,
              "#7201a8"
             ],
             [
              0.3333333333333333,
              "#9c179e"
             ],
             [
              0.4444444444444444,
              "#bd3786"
             ],
             [
              0.5555555555555556,
              "#d8576b"
             ],
             [
              0.6666666666666666,
              "#ed7953"
             ],
             [
              0.7777777777777778,
              "#fb9f3a"
             ],
             [
              0.8888888888888888,
              "#fdca26"
             ],
             [
              1,
              "#f0f921"
             ]
            ],
            "type": "heatmap"
           }
          ],
          "heatmapgl": [
           {
            "colorbar": {
             "outlinewidth": 0,
             "ticks": ""
            },
            "colorscale": [
             [
              0,
              "#0d0887"
             ],
             [
              0.1111111111111111,
              "#46039f"
             ],
             [
              0.2222222222222222,
              "#7201a8"
             ],
             [
              0.3333333333333333,
              "#9c179e"
             ],
             [
              0.4444444444444444,
              "#bd3786"
             ],
             [
              0.5555555555555556,
              "#d8576b"
             ],
             [
              0.6666666666666666,
              "#ed7953"
             ],
             [
              0.7777777777777778,
              "#fb9f3a"
             ],
             [
              0.8888888888888888,
              "#fdca26"
             ],
             [
              1,
              "#f0f921"
             ]
            ],
            "type": "heatmapgl"
           }
          ],
          "histogram": [
           {
            "marker": {
             "pattern": {
              "fillmode": "overlay",
              "size": 10,
              "solidity": 0.2
             }
            },
            "type": "histogram"
           }
          ],
          "histogram2d": [
           {
            "colorbar": {
             "outlinewidth": 0,
             "ticks": ""
            },
            "colorscale": [
             [
              0,
              "#0d0887"
             ],
             [
              0.1111111111111111,
              "#46039f"
             ],
             [
              0.2222222222222222,
              "#7201a8"
             ],
             [
              0.3333333333333333,
              "#9c179e"
             ],
             [
              0.4444444444444444,
              "#bd3786"
             ],
             [
              0.5555555555555556,
              "#d8576b"
             ],
             [
              0.6666666666666666,
              "#ed7953"
             ],
             [
              0.7777777777777778,
              "#fb9f3a"
             ],
             [
              0.8888888888888888,
              "#fdca26"
             ],
             [
              1,
              "#f0f921"
             ]
            ],
            "type": "histogram2d"
           }
          ],
          "histogram2dcontour": [
           {
            "colorbar": {
             "outlinewidth": 0,
             "ticks": ""
            },
            "colorscale": [
             [
              0,
              "#0d0887"
             ],
             [
              0.1111111111111111,
              "#46039f"
             ],
             [
              0.2222222222222222,
              "#7201a8"
             ],
             [
              0.3333333333333333,
              "#9c179e"
             ],
             [
              0.4444444444444444,
              "#bd3786"
             ],
             [
              0.5555555555555556,
              "#d8576b"
             ],
             [
              0.6666666666666666,
              "#ed7953"
             ],
             [
              0.7777777777777778,
              "#fb9f3a"
             ],
             [
              0.8888888888888888,
              "#fdca26"
             ],
             [
              1,
              "#f0f921"
             ]
            ],
            "type": "histogram2dcontour"
           }
          ],
          "mesh3d": [
           {
            "colorbar": {
             "outlinewidth": 0,
             "ticks": ""
            },
            "type": "mesh3d"
           }
          ],
          "parcoords": [
           {
            "line": {
             "colorbar": {
              "outlinewidth": 0,
              "ticks": ""
             }
            },
            "type": "parcoords"
           }
          ],
          "pie": [
           {
            "automargin": true,
            "type": "pie"
           }
          ],
          "scatter": [
           {
            "marker": {
             "colorbar": {
              "outlinewidth": 0,
              "ticks": ""
             }
            },
            "type": "scatter"
           }
          ],
          "scatter3d": [
           {
            "line": {
             "colorbar": {
              "outlinewidth": 0,
              "ticks": ""
             }
            },
            "marker": {
             "colorbar": {
              "outlinewidth": 0,
              "ticks": ""
             }
            },
            "type": "scatter3d"
           }
          ],
          "scattercarpet": [
           {
            "marker": {
             "colorbar": {
              "outlinewidth": 0,
              "ticks": ""
             }
            },
            "type": "scattercarpet"
           }
          ],
          "scattergeo": [
           {
            "marker": {
             "colorbar": {
              "outlinewidth": 0,
              "ticks": ""
             }
            },
            "type": "scattergeo"
           }
          ],
          "scattergl": [
           {
            "marker": {
             "colorbar": {
              "outlinewidth": 0,
              "ticks": ""
             }
            },
            "type": "scattergl"
           }
          ],
          "scattermapbox": [
           {
            "marker": {
             "colorbar": {
              "outlinewidth": 0,
              "ticks": ""
             }
            },
            "type": "scattermapbox"
           }
          ],
          "scatterpolar": [
           {
            "marker": {
             "colorbar": {
              "outlinewidth": 0,
              "ticks": ""
             }
            },
            "type": "scatterpolar"
           }
          ],
          "scatterpolargl": [
           {
            "marker": {
             "colorbar": {
              "outlinewidth": 0,
              "ticks": ""
             }
            },
            "type": "scatterpolargl"
           }
          ],
          "scatterternary": [
           {
            "marker": {
             "colorbar": {
              "outlinewidth": 0,
              "ticks": ""
             }
            },
            "type": "scatterternary"
           }
          ],
          "surface": [
           {
            "colorbar": {
             "outlinewidth": 0,
             "ticks": ""
            },
            "colorscale": [
             [
              0,
              "#0d0887"
             ],
             [
              0.1111111111111111,
              "#46039f"
             ],
             [
              0.2222222222222222,
              "#7201a8"
             ],
             [
              0.3333333333333333,
              "#9c179e"
             ],
             [
              0.4444444444444444,
              "#bd3786"
             ],
             [
              0.5555555555555556,
              "#d8576b"
             ],
             [
              0.6666666666666666,
              "#ed7953"
             ],
             [
              0.7777777777777778,
              "#fb9f3a"
             ],
             [
              0.8888888888888888,
              "#fdca26"
             ],
             [
              1,
              "#f0f921"
             ]
            ],
            "type": "surface"
           }
          ],
          "table": [
           {
            "cells": {
             "fill": {
              "color": "#EBF0F8"
             },
             "line": {
              "color": "white"
             }
            },
            "header": {
             "fill": {
              "color": "#C8D4E3"
             },
             "line": {
              "color": "white"
             }
            },
            "type": "table"
           }
          ]
         },
         "layout": {
          "annotationdefaults": {
           "arrowcolor": "#2a3f5f",
           "arrowhead": 0,
           "arrowwidth": 1
          },
          "autotypenumbers": "strict",
          "coloraxis": {
           "colorbar": {
            "outlinewidth": 0,
            "ticks": ""
           }
          },
          "colorscale": {
           "diverging": [
            [
             0,
             "#8e0152"
            ],
            [
             0.1,
             "#c51b7d"
            ],
            [
             0.2,
             "#de77ae"
            ],
            [
             0.3,
             "#f1b6da"
            ],
            [
             0.4,
             "#fde0ef"
            ],
            [
             0.5,
             "#f7f7f7"
            ],
            [
             0.6,
             "#e6f5d0"
            ],
            [
             0.7,
             "#b8e186"
            ],
            [
             0.8,
             "#7fbc41"
            ],
            [
             0.9,
             "#4d9221"
            ],
            [
             1,
             "#276419"
            ]
           ],
           "sequential": [
            [
             0,
             "#0d0887"
            ],
            [
             0.1111111111111111,
             "#46039f"
            ],
            [
             0.2222222222222222,
             "#7201a8"
            ],
            [
             0.3333333333333333,
             "#9c179e"
            ],
            [
             0.4444444444444444,
             "#bd3786"
            ],
            [
             0.5555555555555556,
             "#d8576b"
            ],
            [
             0.6666666666666666,
             "#ed7953"
            ],
            [
             0.7777777777777778,
             "#fb9f3a"
            ],
            [
             0.8888888888888888,
             "#fdca26"
            ],
            [
             1,
             "#f0f921"
            ]
           ],
           "sequentialminus": [
            [
             0,
             "#0d0887"
            ],
            [
             0.1111111111111111,
             "#46039f"
            ],
            [
             0.2222222222222222,
             "#7201a8"
            ],
            [
             0.3333333333333333,
             "#9c179e"
            ],
            [
             0.4444444444444444,
             "#bd3786"
            ],
            [
             0.5555555555555556,
             "#d8576b"
            ],
            [
             0.6666666666666666,
             "#ed7953"
            ],
            [
             0.7777777777777778,
             "#fb9f3a"
            ],
            [
             0.8888888888888888,
             "#fdca26"
            ],
            [
             1,
             "#f0f921"
            ]
           ]
          },
          "colorway": [
           "#636efa",
           "#EF553B",
           "#00cc96",
           "#ab63fa",
           "#FFA15A",
           "#19d3f3",
           "#FF6692",
           "#B6E880",
           "#FF97FF",
           "#FECB52"
          ],
          "font": {
           "color": "#2a3f5f"
          },
          "geo": {
           "bgcolor": "white",
           "lakecolor": "white",
           "landcolor": "#E5ECF6",
           "showlakes": true,
           "showland": true,
           "subunitcolor": "white"
          },
          "hoverlabel": {
           "align": "left"
          },
          "hovermode": "closest",
          "mapbox": {
           "style": "light"
          },
          "paper_bgcolor": "white",
          "plot_bgcolor": "#E5ECF6",
          "polar": {
           "angularaxis": {
            "gridcolor": "white",
            "linecolor": "white",
            "ticks": ""
           },
           "bgcolor": "#E5ECF6",
           "radialaxis": {
            "gridcolor": "white",
            "linecolor": "white",
            "ticks": ""
           }
          },
          "scene": {
           "xaxis": {
            "backgroundcolor": "#E5ECF6",
            "gridcolor": "white",
            "gridwidth": 2,
            "linecolor": "white",
            "showbackground": true,
            "ticks": "",
            "zerolinecolor": "white"
           },
           "yaxis": {
            "backgroundcolor": "#E5ECF6",
            "gridcolor": "white",
            "gridwidth": 2,
            "linecolor": "white",
            "showbackground": true,
            "ticks": "",
            "zerolinecolor": "white"
           },
           "zaxis": {
            "backgroundcolor": "#E5ECF6",
            "gridcolor": "white",
            "gridwidth": 2,
            "linecolor": "white",
            "showbackground": true,
            "ticks": "",
            "zerolinecolor": "white"
           }
          },
          "shapedefaults": {
           "line": {
            "color": "#2a3f5f"
           }
          },
          "ternary": {
           "aaxis": {
            "gridcolor": "white",
            "linecolor": "white",
            "ticks": ""
           },
           "baxis": {
            "gridcolor": "white",
            "linecolor": "white",
            "ticks": ""
           },
           "bgcolor": "#E5ECF6",
           "caxis": {
            "gridcolor": "white",
            "linecolor": "white",
            "ticks": ""
           }
          },
          "title": {
           "x": 0.05
          },
          "xaxis": {
           "automargin": true,
           "gridcolor": "white",
           "linecolor": "white",
           "ticks": "",
           "title": {
            "standoff": 15
           },
           "zerolinecolor": "white",
           "zerolinewidth": 2
          },
          "yaxis": {
           "automargin": true,
           "gridcolor": "white",
           "linecolor": "white",
           "ticks": "",
           "title": {
            "standoff": 15
           },
           "zerolinecolor": "white",
           "zerolinewidth": 2
          }
         }
        },
        "title": {
         "text": "Hourly Diesel Consumption vs Average Ambient Temperature"
        },
        "width": 800,
        "xaxis": {
         "anchor": "y",
         "domain": [
          0,
          1
         ],
         "title": {
          "text": "Average Ambient Temperature (C)"
         }
        },
        "yaxis": {
         "anchor": "x",
         "domain": [
          0,
          1
         ],
         "title": {
          "text": "Hourly Diesel Consumption (L / Hr)"
         }
        }
       }
      }
     },
     "metadata": {},
     "output_type": "display_data"
    }
   ],
   "source": [
    "fig = px.scatter(\n",
    "    df_ave, x='Ave Ambient Temp (C)', y='hourly_cons', opacity=0.65,\n",
    "    trendline='ols', trendline_color_override='darkblue', width=800, height=400, title=\"Hourly Diesel Consumption vs Average Ambient Temperature\",\n",
    "    labels={'Ave Ambient Temp (C)':'Average Ambient Temperature (C)', \n",
    "            'hourly_cons':\"Hourly Diesel Consumption (L / Hr)\", }\n",
    ")\n",
    "fig.show()"
   ]
  },
  {
   "cell_type": "code",
   "execution_count": 125,
   "id": "664d3109-01ef-4ab5-8c31-e17fc05cf55a",
   "metadata": {},
   "outputs": [
    {
     "data": {
      "image/png": "[encoded data removed]",
      "text/plain": [
       "<Figure size 864x432 with 2 Axes>"
      ]
     },
     "metadata": {
      "needs_background": "light"
     },
     "output_type": "display_data"
    }
   ],
   "source": [
    "plt.figure(figsize=(12,6))\n",
    "sns.lineplot(x=df_ave.index.values, y=df_ave['Average Net kWH per KM'])\n",
    "ax2 = plt.twinx()\n",
    "sns.lineplot(x=df_ave.index.values, y=df_ave['Ave Ambient Temp (C)'], color='red')\n",
    "plt.show()"
   ]
  },
  {
   "cell_type": "code",
   "execution_count": 126,
   "id": "d326818c-2011-4e35-9b46-dd74510d645e",
   "metadata": {},
   "outputs": [
    {
     "data": {
      "image/png": "[encoded data removed]",
      "text/plain": [
       "<Figure size 864x432 with 1 Axes>"
      ]
     },
     "metadata": {
      "needs_background": "light"
     },
     "output_type": "display_data"
    }
   ],
   "source": [
    "plt.figure(figsize=(12,6))\n",
    "sns.lineplot(x=df_ave['Ave Ambient Temp (C)'], y=df_ave['Average Net kWH per KM'])\n",
    "sns.scatterplot(x=df_ave['Ave Ambient Temp (C)'], y=df_ave['Average Net kWH per KM'])\n",
    "plt.show()"
   ]
  },
  {
   "cell_type": "code",
   "execution_count": 127,
   "id": "aa3f4797-d187-46cd-ad10-830ee2389662",
   "metadata": {},
   "outputs": [
    {
     "data": {
      "image/png": "[encoded data removed]",
      "text/plain": [
       "<Figure size 864x432 with 1 Axes>"
      ]
     },
     "metadata": {
      "needs_background": "light"
     },
     "output_type": "display_data"
    }
   ],
   "source": [
    "plt.figure(figsize=(12,6))\n",
    "sns.lineplot(x=df_ave['Ave Ambient Temp (C)'], y=df_ave['Average Net kWH per KM'], color=\"black\")\n",
    "sns.histplot(x=df_ave['Ave Ambient Temp (C)'], y=df_ave['Average Net kWH per KM'])\n",
    "plt.show()"
   ]
  },
  {
   "cell_type": "code",
   "execution_count": 128,
   "id": "b1f897f5-5bf5-44d2-ac1f-f1a4f9703439",
   "metadata": {},
   "outputs": [
    {
     "data": {
      "application/vnd.plotly.v1+json": {
       "config": {
        "plotlyServerURL": "https://plot.ly"
       },
       "data": [
        {
         "hovertemplate": "EnviroCanada Temperature (C)=%{x}<br>Hourly Diesel Consumption (L / Hr)=%{y}<extra></extra>",
         "legendgroup": "",
         "marker": {
          "color": "#636efa",
          "opacity": 0.65,
          "symbol": "circle"
         },
         "mode": "markers",
         "name": "",
         "orientation": "v",
         "showlegend": false,
         "type": "scatter",
         "x": [
          -2.6772727272727272,
          -2.2166666666666663,
          -2.3777777777777778,
          -17.849999999999998,
          -18.327777777777776,
          -24.121428571428574,
          -11.180357142857144,
          -0.9134615384615384,
          1.3619999999999999,
          -1.6619047619047618,
          2.6636363636363636,
          -2.0500000000000003,
          1.15,
          5.779999999999999,
          9.290000000000001,
          1.6673913043478261,
          6.111764705882353,
          9.547058823529412,
          13.433333333333334,
          4.3136363636363635,
          13.03623188405797,
          21.047222222222224,
          12.815217391304348,
          18.119999999999997,
          20.099999999999998,
          25.25,
          18.805882352941175,
          24.35,
          16.152173913043477,
          20.853846153846156,
          23.05,
          null,
          15.5625,
          13.02142857142857,
          12.33529411764706,
          16.186666666666667,
          11.194594594594594,
          11.711538461538462,
          12.378,
          6.721226415094339,
          3.850467289719626,
          5.532758620689655,
          5.435416666666666,
          2.677037037037037,
          0.24094827586206896,
          -4.609615384615385,
          1.25
         ],
         "xaxis": "x",
         "y": [
          0.7794088724768947,
          0.5079460463862504,
          0.8962930225985277,
          0.8651754050641031,
          0.7943836565204949,
          0.9707842774318876,
          0.7501257126055473,
          0.5020120183202742,
          0.5145839036245841,
          0.3816593271106407,
          1.6264238220732985,
          0.7307158020146359,
          0.7703589031423714,
          1.13908806063524,
          0.6505640212576493,
          0.7917083133707973,
          0.6427441399022366,
          null,
          0.44252463126913916,
          0.6038255899135516,
          0.290701400726902,
          0.12637727096833015,
          0.2611452888429406,
          null,
          0.4385889180543496,
          0.16869597096454889,
          0.23839060372946583,
          0.2831647855530474,
          0.17301419379396546,
          0.18868926574731335,
          0.0690044443299547,
          null,
          0.1666069076827607,
          null,
          0.3455980161700328,
          0.7634672216166201,
          0.2992642240908797,
          0.34899545262306775,
          0.33724515779230574,
          0.38028534292789895,
          0.433086185890361,
          0.531389938056226,
          0.6183491894587584,
          0.6016725073897459,
          0.6807936632690652,
          0.5978604385942107,
          0.6671200027917645
         ],
         "yaxis": "y"
        },
        {
         "hovertemplate": "<b>OLS trendline</b><br>hourly_cons = -0.0173502 * Ave Temp (EnviroCanada) + 0.647716<br>R<sup>2</sup>=0.419827<br><br>EnviroCanada Temperature (C)=%{x}<br>Hourly Diesel Consumption (L / Hr)=%{y} <b>(trend)</b><extra></extra>",
         "legendgroup": "",
         "line": {
          "color": "darkblue"
         },
         "marker": {
          "color": "#636efa",
          "symbol": "circle"
         },
         "mode": "lines",
         "name": "",
         "showlegend": false,
         "type": "scatter",
         "x": [
          -24.121428571428574,
          -18.327777777777776,
          -17.849999999999998,
          -11.180357142857144,
          -4.609615384615385,
          -2.6772727272727272,
          -2.3777777777777778,
          -2.2166666666666663,
          -2.0500000000000003,
          -1.6619047619047618,
          -0.9134615384615384,
          0.24094827586206896,
          1.15,
          1.25,
          1.3619999999999999,
          1.6673913043478261,
          2.6636363636363636,
          2.677037037037037,
          3.850467289719626,
          4.3136363636363635,
          5.435416666666666,
          5.532758620689655,
          5.779999999999999,
          6.111764705882353,
          6.721226415094339,
          9.290000000000001,
          11.194594594594594,
          11.711538461538462,
          12.33529411764706,
          12.378,
          12.815217391304348,
          13.03623188405797,
          13.433333333333334,
          15.5625,
          16.152173913043477,
          16.186666666666667,
          18.805882352941175,
          20.099999999999998,
          20.853846153846156,
          21.047222222222224,
          23.05,
          24.35,
          25.25
         ],
         "xaxis": "x",
         "y": [
          1.0662264984884182,
          0.9657056734737889,
          0.9574161479040894,
          0.8416967118470086,
          0.7276932266489761,
          0.6941667534380067,
          0.6889704652109118,
          0.6861751600769432,
          0.683283465110769,
          0.6765499468323918,
          0.6635643298222037,
          0.6435351235283133,
          0.6277629217602232,
          0.6260279047805186,
          0.6240846857632495,
          0.6187860947782735,
          0.6015010738401496,
          0.6012685698812531,
          0.5809093557522201,
          0.5728732936750244,
          0.5534102149424673,
          0.5517213155117923,
          0.547431635599902,
          0.5416754616201763,
          0.5311011974805507,
          0.486532539612272,
          0.4534875000015206,
          0.44451843613450315,
          0.4336961695891514,
          0.4329552152789952,
          0.4253694193016435,
          0.4215347803247602,
          0.4146450027531798,
          0.3777035995603035,
          0.3674726570441109,
          0.3668742019119809,
          0.3214303650200329,
          0.2989772041062092,
          0.2858978453361286,
          0.28254273771511873,
          0.24779420320492468,
          0.2252389824687654,
          0.2096238296514244
         ],
         "yaxis": "y"
        }
       ],
       "layout": {
        "height": 400,
        "legend": {
         "tracegroupgap": 0
        },
        "template": {
         "data": {
          "bar": [
           {
            "error_x": {
             "color": "#2a3f5f"
            },
            "error_y": {
             "color": "#2a3f5f"
            },
            "marker": {
             "line": {
              "color": "#E5ECF6",
              "width": 0.5
             },
             "pattern": {
              "fillmode": "overlay",
              "size": 10,
              "solidity": 0.2
             }
            },
            "type": "bar"
           }
          ],
          "barpolar": [
           {
            "marker": {
             "line": {
              "color": "#E5ECF6",
              "width": 0.5
             },
             "pattern": {
              "fillmode": "overlay",
              "size": 10,
              "solidity": 0.2
             }
            },
            "type": "barpolar"
           }
          ],
          "carpet": [
           {
            "aaxis": {
             "endlinecolor": "#2a3f5f",
             "gridcolor": "white",
             "linecolor": "white",
             "minorgridcolor": "white",
             "startlinecolor": "#2a3f5f"
            },
            "baxis": {
             "endlinecolor": "#2a3f5f",
             "gridcolor": "white",
             "linecolor": "white",
             "minorgridcolor": "white",
             "startlinecolor": "#2a3f5f"
            },
            "type": "carpet"
           }
          ],
          "choropleth": [
           {
            "colorbar": {
             "outlinewidth": 0,
             "ticks": ""
            },
            "type": "choropleth"
           }
          ],
          "contour": [
           {
            "colorbar": {
             "outlinewidth": 0,
             "ticks": ""
            },
            "colorscale": [
             [
              0,
              "#0d0887"
             ],
             [
              0.1111111111111111,
              "#46039f"
             ],
             [
              0.2222222222222222,
              "#7201a8"
             ],
             [
              0.3333333333333333,
              "#9c179e"
             ],
             [
              0.4444444444444444,
              "#bd3786"
             ],
             [
              0.5555555555555556,
              "#d8576b"
             ],
             [
              0.6666666666666666,
              "#ed7953"
             ],
             [
              0.7777777777777778,
              "#fb9f3a"
             ],
             [
              0.8888888888888888,
              "#fdca26"
             ],
             [
              1,
              "#f0f921"
             ]
            ],
            "type": "contour"
           }
          ],
          "contourcarpet": [
           {
            "colorbar": {
             "outlinewidth": 0,
             "ticks": ""
            },
            "type": "contourcarpet"
           }
          ],
          "heatmap": [
           {
            "colorbar": {
             "outlinewidth": 0,
             "ticks": ""
            },
            "colorscale": [
             [
              0,
              "#0d0887"
             ],
             [
              0.1111111111111111,
              "#46039f"
             ],
             [
              0.2222222222222222,
              "#7201a8"
             ],
             [
              0.3333333333333333,
              "#9c179e"
             ],
             [
              0.4444444444444444,
              "#bd3786"
             ],
             [
              0.5555555555555556,
              "#d8576b"
             ],
             [
              0.6666666666666666,
              "#ed7953"
             ],
             [
              0.7777777777777778,
              "#fb9f3a"
             ],
             [
              0.8888888888888888,
              "#fdca26"
             ],
             [
              1,
              "#f0f921"
             ]
            ],
            "type": "heatmap"
           }
          ],
          "heatmapgl": [
           {
            "colorbar": {
             "outlinewidth": 0,
             "ticks": ""
            },
            "colorscale": [
             [
              0,
              "#0d0887"
             ],
             [
              0.1111111111111111,
              "#46039f"
             ],
             [
              0.2222222222222222,
              "#7201a8"
             ],
             [
              0.3333333333333333,
              "#9c179e"
             ],
             [
              0.4444444444444444,
              "#bd3786"
             ],
             [
              0.5555555555555556,
              "#d8576b"
             ],
             [
              0.6666666666666666,
              "#ed7953"
             ],
             [
              0.7777777777777778,
              "#fb9f3a"
             ],
             [
              0.8888888888888888,
              "#fdca26"
             ],
             [
              1,
              "#f0f921"
             ]
            ],
            "type": "heatmapgl"
           }
          ],
          "histogram": [
           {
            "marker": {
             "pattern": {
              "fillmode": "overlay",
              "size": 10,
              "solidity": 0.2
             }
            },
            "type": "histogram"
           }
          ],
          "histogram2d": [
           {
            "colorbar": {
             "outlinewidth": 0,
             "ticks": ""
            },
            "colorscale": [
             [
              0,
              "#0d0887"
             ],
             [
              0.1111111111111111,
              "#46039f"
             ],
             [
              0.2222222222222222,
              "#7201a8"
             ],
             [
              0.3333333333333333,
              "#9c179e"
             ],
             [
              0.4444444444444444,
              "#bd3786"
             ],
             [
              0.5555555555555556,
              "#d8576b"
             ],
             [
              0.6666666666666666,
              "#ed7953"
             ],
             [
              0.7777777777777778,
              "#fb9f3a"
             ],
             [
              0.8888888888888888,
              "#fdca26"
             ],
             [
              1,
              "#f0f921"
             ]
            ],
            "type": "histogram2d"
           }
          ],
          "histogram2dcontour": [
           {
            "colorbar": {
             "outlinewidth": 0,
             "ticks": ""
            },
            "colorscale": [
             [
              0,
              "#0d0887"
             ],
             [
              0.1111111111111111,
              "#46039f"
             ],
             [
              0.2222222222222222,
              "#7201a8"
             ],
             [
              0.3333333333333333,
              "#9c179e"
             ],
             [
              0.4444444444444444,
              "#bd3786"
             ],
             [
              0.5555555555555556,
              "#d8576b"
             ],
             [
              0.6666666666666666,
              "#ed7953"
             ],
             [
              0.7777777777777778,
              "#fb9f3a"
             ],
             [
              0.8888888888888888,
              "#fdca26"
             ],
             [
              1,
              "#f0f921"
             ]
            ],
            "type": "histogram2dcontour"
           }
          ],
          "mesh3d": [
           {
            "colorbar": {
             "outlinewidth": 0,
             "ticks": ""
            },
            "type": "mesh3d"
           }
          ],
          "parcoords": [
           {
            "line": {
             "colorbar": {
              "outlinewidth": 0,
              "ticks": ""
             }
            },
            "type": "parcoords"
           }
          ],
          "pie": [
           {
            "automargin": true,
            "type": "pie"
           }
          ],
          "scatter": [
           {
            "marker": {
             "colorbar": {
              "outlinewidth": 0,
              "ticks": ""
             }
            },
            "type": "scatter"
           }
          ],
          "scatter3d": [
           {
            "line": {
             "colorbar": {
              "outlinewidth": 0,
              "ticks": ""
             }
            },
            "marker": {
             "colorbar": {
              "outlinewidth": 0,
              "ticks": ""
             }
            },
            "type": "scatter3d"
           }
          ],
          "scattercarpet": [
           {
            "marker": {
             "colorbar": {
              "outlinewidth": 0,
              "ticks": ""
             }
            },
            "type": "scattercarpet"
           }
          ],
          "scattergeo": [
           {
            "marker": {
             "colorbar": {
              "outlinewidth": 0,
              "ticks": ""
             }
            },
            "type": "scattergeo"
           }
          ],
          "scattergl": [
           {
            "marker": {
             "colorbar": {
              "outlinewidth": 0,
              "ticks": ""
             }
            },
            "type": "scattergl"
           }
          ],
          "scattermapbox": [
           {
            "marker": {
             "colorbar": {
              "outlinewidth": 0,
              "ticks": ""
             }
            },
            "type": "scattermapbox"
           }
          ],
          "scatterpolar": [
           {
            "marker": {
             "colorbar": {
              "outlinewidth": 0,
              "ticks": ""
             }
            },
            "type": "scatterpolar"
           }
          ],
          "scatterpolargl": [
           {
            "marker": {
             "colorbar": {
              "outlinewidth": 0,
              "ticks": ""
             }
            },
            "type": "scatterpolargl"
           }
          ],
          "scatterternary": [
           {
            "marker": {
             "colorbar": {
              "outlinewidth": 0,
              "ticks": ""
             }
            },
            "type": "scatterternary"
           }
          ],
          "surface": [
           {
            "colorbar": {
             "outlinewidth": 0,
             "ticks": ""
            },
            "colorscale": [
             [
              0,
              "#0d0887"
             ],
             [
              0.1111111111111111,
              "#46039f"
             ],
             [
              0.2222222222222222,
              "#7201a8"
             ],
             [
              0.3333333333333333,
              "#9c179e"
             ],
             [
              0.4444444444444444,
              "#bd3786"
             ],
             [
              0.5555555555555556,
              "#d8576b"
             ],
             [
              0.6666666666666666,
              "#ed7953"
             ],
             [
              0.7777777777777778,
              "#fb9f3a"
             ],
             [
              0.8888888888888888,
              "#fdca26"
             ],
             [
              1,
              "#f0f921"
             ]
            ],
            "type": "surface"
           }
          ],
          "table": [
           {
            "cells": {
             "fill": {
              "color": "#EBF0F8"
             },
             "line": {
              "color": "white"
             }
            },
            "header": {
             "fill": {
              "color": "#C8D4E3"
             },
             "line": {
              "color": "white"
             }
            },
            "type": "table"
           }
          ]
         },
         "layout": {
          "annotationdefaults": {
           "arrowcolor": "#2a3f5f",
           "arrowhead": 0,
           "arrowwidth": 1
          },
          "autotypenumbers": "strict",
          "coloraxis": {
           "colorbar": {
            "outlinewidth": 0,
            "ticks": ""
           }
          },
          "colorscale": {
           "diverging": [
            [
             0,
             "#8e0152"
            ],
            [
             0.1,
             "#c51b7d"
            ],
            [
             0.2,
             "#de77ae"
            ],
            [
             0.3,
             "#f1b6da"
            ],
            [
             0.4,
             "#fde0ef"
            ],
            [
             0.5,
             "#f7f7f7"
            ],
            [
             0.6,
             "#e6f5d0"
            ],
            [
             0.7,
             "#b8e186"
            ],
            [
             0.8,
             "#7fbc41"
            ],
            [
             0.9,
             "#4d9221"
            ],
            [
             1,
             "#276419"
            ]
           ],
           "sequential": [
            [
             0,
             "#0d0887"
            ],
            [
             0.1111111111111111,
             "#46039f"
            ],
            [
             0.2222222222222222,
             "#7201a8"
            ],
            [
             0.3333333333333333,
             "#9c179e"
            ],
            [
             0.4444444444444444,
             "#bd3786"
            ],
            [
             0.5555555555555556,
             "#d8576b"
            ],
            [
             0.6666666666666666,
             "#ed7953"
            ],
            [
             0.7777777777777778,
             "#fb9f3a"
            ],
            [
             0.8888888888888888,
             "#fdca26"
            ],
            [
             1,
             "#f0f921"
            ]
           ],
           "sequentialminus": [
            [
             0,
             "#0d0887"
            ],
            [
             0.1111111111111111,
             "#46039f"
            ],
            [
             0.2222222222222222,
             "#7201a8"
            ],
            [
             0.3333333333333333,
             "#9c179e"
            ],
            [
             0.4444444444444444,
             "#bd3786"
            ],
            [
             0.5555555555555556,
             "#d8576b"
            ],
            [
             0.6666666666666666,
             "#ed7953"
            ],
            [
             0.7777777777777778,
             "#fb9f3a"
            ],
            [
             0.8888888888888888,
             "#fdca26"
            ],
            [
             1,
             "#f0f921"
            ]
           ]
          },
          "colorway": [
           "#636efa",
           "#EF553B",
           "#00cc96",
           "#ab63fa",
           "#FFA15A",
           "#19d3f3",
           "#FF6692",
           "#B6E880",
           "#FF97FF",
           "#FECB52"
          ],
          "font": {
           "color": "#2a3f5f"
          },
          "geo": {
           "bgcolor": "white",
           "lakecolor": "white",
           "landcolor": "#E5ECF6",
           "showlakes": true,
           "showland": true,
           "subunitcolor": "white"
          },
          "hoverlabel": {
           "align": "left"
          },
          "hovermode": "closest",
          "mapbox": {
           "style": "light"
          },
          "paper_bgcolor": "white",
          "plot_bgcolor": "#E5ECF6",
          "polar": {
           "angularaxis": {
            "gridcolor": "white",
            "linecolor": "white",
            "ticks": ""
           },
           "bgcolor": "#E5ECF6",
           "radialaxis": {
            "gridcolor": "white",
            "linecolor": "white",
            "ticks": ""
           }
          },
          "scene": {
           "xaxis": {
            "backgroundcolor": "#E5ECF6",
            "gridcolor": "white",
            "gridwidth": 2,
            "linecolor": "white",
            "showbackground": true,
            "ticks": "",
            "zerolinecolor": "white"
           },
           "yaxis": {
            "backgroundcolor": "#E5ECF6",
            "gridcolor": "white",
            "gridwidth": 2,
            "linecolor": "white",
            "showbackground": true,
            "ticks": "",
            "zerolinecolor": "white"
           },
           "zaxis": {
            "backgroundcolor": "#E5ECF6",
            "gridcolor": "white",
            "gridwidth": 2,
            "linecolor": "white",
            "showbackground": true,
            "ticks": "",
            "zerolinecolor": "white"
           }
          },
          "shapedefaults": {
           "line": {
            "color": "#2a3f5f"
           }
          },
          "ternary": {
           "aaxis": {
            "gridcolor": "white",
            "linecolor": "white",
            "ticks": ""
           },
           "baxis": {
            "gridcolor": "white",
            "linecolor": "white",
            "ticks": ""
           },
           "bgcolor": "#E5ECF6",
           "caxis": {
            "gridcolor": "white",
            "linecolor": "white",
            "ticks": ""
           }
          },
          "title": {
           "x": 0.05
          },
          "xaxis": {
           "automargin": true,
           "gridcolor": "white",
           "linecolor": "white",
           "ticks": "",
           "title": {
            "standoff": 15
           },
           "zerolinecolor": "white",
           "zerolinewidth": 2
          },
          "yaxis": {
           "automargin": true,
           "gridcolor": "white",
           "linecolor": "white",
           "ticks": "",
           "title": {
            "standoff": 15
           },
           "zerolinecolor": "white",
           "zerolinewidth": 2
          }
         }
        },
        "title": {
         "text": "Weekly Average - Hourly Diesel Consumption vs EnviroCanada Temperature"
        },
        "width": 800,
        "xaxis": {
         "anchor": "y",
         "domain": [
          0,
          1
         ],
         "title": {
          "text": "EnviroCanada Temperature (C)"
         }
        },
        "yaxis": {
         "anchor": "x",
         "domain": [
          0,
          1
         ],
         "title": {
          "text": "Hourly Diesel Consumption (L / Hr)"
         }
        }
       }
      }
     },
     "metadata": {},
     "output_type": "display_data"
    }
   ],
   "source": [
    "fig = px.scatter(\n",
    "    df_ave, x='Ave Temp (EnviroCanada)', y='hourly_cons', opacity=0.65,\n",
    "    trendline='ols', trendline_color_override='darkblue', width=800, height=400, title=\"Weekly Average - Hourly Diesel Consumption vs EnviroCanada Temperature\",\n",
    "    labels={'Ave Temp (EnviroCanada)':'EnviroCanada Temperature (C)', \n",
    "            'hourly_cons':\"Hourly Diesel Consumption (L / Hr)\", }\n",
    ")\n",
    "fig.show()"
   ]
  },
  {
   "cell_type": "code",
   "execution_count": 129,
   "id": "d1cc3b0e-9090-46d1-a844-45e9a8c89f3c",
   "metadata": {},
   "outputs": [],
   "source": [
    "df_ave = df_ave.rename(columns={\"hourly_cons\":\"Average Hourly Fuel Consumption\"})\n",
    "df_ave=df_ave.drop(columns=['Year', 'Month', 'Day','Start of Day Odometer','End of Day Odometer','datetimefield'])"
   ]
  },
  {
   "cell_type": "code",
   "execution_count": 130,
   "id": "6860b9d0-5f9e-4eac-b902-47426bbd6d23",
   "metadata": {},
   "outputs": [],
   "source": [
    "df = df.rename(columns={\"hourly_cons\":\"Hourly Fuel Consumption\"})\n",
    "df = df.drop(columns=['date', 'Year', 'Month', 'Day','Start of Day Odometer','End of Day Odometer','datetime'])"
   ]
  },
  {
   "cell_type": "code",
   "execution_count": 131,
   "id": "a3cd9963-7d8c-46a1-a252-e2c6b8103540",
   "metadata": {},
   "outputs": [],
   "source": [
    "df.to_excel('./Results/Excel/full_dataset.xlsx')\n",
    "df_ave.to_excel('./Results/Excel/weekly_ave_dataset.xlsx')"
   ]
  },
  {
   "cell_type": "code",
   "execution_count": 132,
   "id": "a9d17aae-3ba4-4e76-992e-80e3d436ff8f",
   "metadata": {},
   "outputs": [
    {
     "data": {
      "text/html": [
       "<div>\n",
       "<style scoped>\n",
       "    .dataframe tbody tr th:only-of-type {\n",
       "        vertical-align: middle;\n",
       "    }\n",
       "\n",
       "    .dataframe tbody tr th {\n",
       "        vertical-align: top;\n",
       "    }\n",
       "\n",
       "    .dataframe thead th {\n",
       "        text-align: right;\n",
       "    }\n",
       "</style>\n",
       "<table border=\"1\" class=\"dataframe\">\n",
       "  <thead>\n",
       "    <tr style=\"text-align: right;\">\n",
       "      <th></th>\n",
       "      <th>Issue Qty</th>\n",
       "      <th>Total $/L</th>\n",
       "      <th>Total Do</th>\n",
       "      <th>Max Temp (°C)</th>\n",
       "      <th>Min Temp (°C)</th>\n",
       "      <th>Kilometers</th>\n",
       "      <th>Average Net kWH per KM</th>\n",
       "      <th>Average Gross kWH per KM</th>\n",
       "      <th>Start of Day SOC</th>\n",
       "      <th>End of Day SOC</th>\n",
       "      <th>...</th>\n",
       "      <th>Energy Charged (kWH)</th>\n",
       "      <th>Regenerated kWH</th>\n",
       "      <th>Energy Consumed (kWH)</th>\n",
       "      <th>kWH for components</th>\n",
       "      <th>Hours Charging</th>\n",
       "      <th>Hours Moving</th>\n",
       "      <th>Hours Stopped</th>\n",
       "      <th>Hours Operating</th>\n",
       "      <th>Hourly Fuel Consumption</th>\n",
       "      <th>Diesel L/km</th>\n",
       "    </tr>\n",
       "  </thead>\n",
       "  <tbody>\n",
       "    <tr>\n",
       "      <th>count</th>\n",
       "      <td>1757.000000</td>\n",
       "      <td>1757.000000</td>\n",
       "      <td>1757.000000</td>\n",
       "      <td>1751.000000</td>\n",
       "      <td>1751.000000</td>\n",
       "      <td>1757.000000</td>\n",
       "      <td>1750.000000</td>\n",
       "      <td>1750.000000</td>\n",
       "      <td>1275.000000</td>\n",
       "      <td>1695.000000</td>\n",
       "      <td>...</td>\n",
       "      <td>1757.000000</td>\n",
       "      <td>1757.000000</td>\n",
       "      <td>1757.000000</td>\n",
       "      <td>1757.000000</td>\n",
       "      <td>1757.000000</td>\n",
       "      <td>1757.000000</td>\n",
       "      <td>1757.000000</td>\n",
       "      <td>1757.000000</td>\n",
       "      <td>1757.000000</td>\n",
       "      <td>1757.000000</td>\n",
       "    </tr>\n",
       "    <tr>\n",
       "      <th>mean</th>\n",
       "      <td>8.700341</td>\n",
       "      <td>0.913895</td>\n",
       "      <td>7.890233</td>\n",
       "      <td>9.449286</td>\n",
       "      <td>-4.294061</td>\n",
       "      <td>170.349255</td>\n",
       "      <td>1.475755</td>\n",
       "      <td>2.034135</td>\n",
       "      <td>82.791214</td>\n",
       "      <td>81.311733</td>\n",
       "      <td>...</td>\n",
       "      <td>239.567911</td>\n",
       "      <td>68.057226</td>\n",
       "      <td>245.519886</td>\n",
       "      <td>366.549897</td>\n",
       "      <td>7.770527</td>\n",
       "      <td>7.233186</td>\n",
       "      <td>5.940224</td>\n",
       "      <td>16.810826</td>\n",
       "      <td>inf</td>\n",
       "      <td>0.058772</td>\n",
       "    </tr>\n",
       "    <tr>\n",
       "      <th>std</th>\n",
       "      <td>6.977973</td>\n",
       "      <td>0.049976</td>\n",
       "      <td>6.248943</td>\n",
       "      <td>9.556888</td>\n",
       "      <td>8.196336</td>\n",
       "      <td>58.663311</td>\n",
       "      <td>0.553662</td>\n",
       "      <td>1.579787</td>\n",
       "      <td>21.204027</td>\n",
       "      <td>21.801186</td>\n",
       "      <td>...</td>\n",
       "      <td>154.453603</td>\n",
       "      <td>32.419751</td>\n",
       "      <td>96.389209</td>\n",
       "      <td>244.212466</td>\n",
       "      <td>5.624605</td>\n",
       "      <td>4.417747</td>\n",
       "      <td>3.962729</td>\n",
       "      <td>4.981684</td>\n",
       "      <td>NaN</td>\n",
       "      <td>0.063179</td>\n",
       "    </tr>\n",
       "    <tr>\n",
       "      <th>min</th>\n",
       "      <td>0.100000</td>\n",
       "      <td>0.798600</td>\n",
       "      <td>0.079860</td>\n",
       "      <td>-26.000000</td>\n",
       "      <td>-40.800000</td>\n",
       "      <td>0.000000</td>\n",
       "      <td>0.384538</td>\n",
       "      <td>0.384538</td>\n",
       "      <td>0.000000</td>\n",
       "      <td>0.000000</td>\n",
       "      <td>...</td>\n",
       "      <td>0.000000</td>\n",
       "      <td>0.000000</td>\n",
       "      <td>0.000000</td>\n",
       "      <td>0.000000</td>\n",
       "      <td>0.000000</td>\n",
       "      <td>0.000000</td>\n",
       "      <td>0.000000</td>\n",
       "      <td>0.000000</td>\n",
       "      <td>0.003580</td>\n",
       "      <td>0.000000</td>\n",
       "    </tr>\n",
       "    <tr>\n",
       "      <th>25%</th>\n",
       "      <td>3.700000</td>\n",
       "      <td>0.860900</td>\n",
       "      <td>3.453430</td>\n",
       "      <td>4.800000</td>\n",
       "      <td>-8.800000</td>\n",
       "      <td>127.875001</td>\n",
       "      <td>1.214370</td>\n",
       "      <td>1.659725</td>\n",
       "      <td>68.883600</td>\n",
       "      <td>67.995350</td>\n",
       "      <td>...</td>\n",
       "      <td>129.646000</td>\n",
       "      <td>42.638400</td>\n",
       "      <td>175.973000</td>\n",
       "      <td>191.954107</td>\n",
       "      <td>3.618333</td>\n",
       "      <td>4.345000</td>\n",
       "      <td>3.217778</td>\n",
       "      <td>13.530000</td>\n",
       "      <td>0.204293</td>\n",
       "      <td>0.021931</td>\n",
       "    </tr>\n",
       "    <tr>\n",
       "      <th>50%</th>\n",
       "      <td>6.600000</td>\n",
       "      <td>0.917200</td>\n",
       "      <td>5.940210</td>\n",
       "      <td>10.500000</td>\n",
       "      <td>-4.600000</td>\n",
       "      <td>182.540004</td>\n",
       "      <td>1.349415</td>\n",
       "      <td>1.908459</td>\n",
       "      <td>94.345300</td>\n",
       "      <td>90.918800</td>\n",
       "      <td>...</td>\n",
       "      <td>234.378000</td>\n",
       "      <td>68.510600</td>\n",
       "      <td>249.337000</td>\n",
       "      <td>319.355198</td>\n",
       "      <td>6.833611</td>\n",
       "      <td>6.695278</td>\n",
       "      <td>5.059444</td>\n",
       "      <td>17.248333</td>\n",
       "      <td>0.368475</td>\n",
       "      <td>0.041230</td>\n",
       "    </tr>\n",
       "    <tr>\n",
       "      <th>75%</th>\n",
       "      <td>12.000000</td>\n",
       "      <td>0.963800</td>\n",
       "      <td>10.787380</td>\n",
       "      <td>15.700000</td>\n",
       "      <td>1.800000</td>\n",
       "      <td>213.240003</td>\n",
       "      <td>1.598467</td>\n",
       "      <td>2.229907</td>\n",
       "      <td>100.000000</td>\n",
       "      <td>99.607800</td>\n",
       "      <td>...</td>\n",
       "      <td>342.126000</td>\n",
       "      <td>90.908800</td>\n",
       "      <td>305.747000</td>\n",
       "      <td>488.809477</td>\n",
       "      <td>11.225000</td>\n",
       "      <td>9.036389</td>\n",
       "      <td>8.242500</td>\n",
       "      <td>20.536944</td>\n",
       "      <td>0.673840</td>\n",
       "      <td>0.074505</td>\n",
       "    </tr>\n",
       "    <tr>\n",
       "      <th>max</th>\n",
       "      <td>39.300000</td>\n",
       "      <td>0.987600</td>\n",
       "      <td>35.983080</td>\n",
       "      <td>30.100000</td>\n",
       "      <td>15.400000</td>\n",
       "      <td>438.380008</td>\n",
       "      <td>15.464844</td>\n",
       "      <td>58.690908</td>\n",
       "      <td>100.000000</td>\n",
       "      <td>100.000000</td>\n",
       "      <td>...</td>\n",
       "      <td>1056.980000</td>\n",
       "      <td>175.418000</td>\n",
       "      <td>659.284000</td>\n",
       "      <td>1066.649172</td>\n",
       "      <td>34.360278</td>\n",
       "      <td>19.441667</td>\n",
       "      <td>22.918333</td>\n",
       "      <td>24.000556</td>\n",
       "      <td>inf</td>\n",
       "      <td>0.562621</td>\n",
       "    </tr>\n",
       "  </tbody>\n",
       "</table>\n",
       "<p>8 rows × 22 columns</p>\n",
       "</div>"
      ],
      "text/plain": [
       "         Issue Qty    Total $/L     Total Do  Max Temp (°C)  Min Temp (°C)  \\\n",
       "count  1757.000000  1757.000000  1757.000000    1751.000000    1751.000000   \n",
       "mean      8.700341     0.913895     7.890233       9.449286      -4.294061   \n",
       "std       6.977973     0.049976     6.248943       9.556888       8.196336   \n",
       "min       0.100000     0.798600     0.079860     -26.000000     -40.800000   \n",
       "25%       3.700000     0.860900     3.453430       4.800000      -8.800000   \n",
       "50%       6.600000     0.917200     5.940210      10.500000      -4.600000   \n",
       "75%      12.000000     0.963800    10.787380      15.700000       1.800000   \n",
       "max      39.300000     0.987600    35.983080      30.100000      15.400000   \n",
       "\n",
       "        Kilometers  Average Net kWH per KM  Average Gross kWH per KM  \\\n",
       "count  1757.000000             1750.000000               1750.000000   \n",
       "mean    170.349255                1.475755                  2.034135   \n",
       "std      58.663311                0.553662                  1.579787   \n",
       "min       0.000000                0.384538                  0.384538   \n",
       "25%     127.875001                1.214370                  1.659725   \n",
       "50%     182.540004                1.349415                  1.908459   \n",
       "75%     213.240003                1.598467                  2.229907   \n",
       "max     438.380008               15.464844                 58.690908   \n",
       "\n",
       "       Start of Day SOC  End of Day SOC  ...  Energy Charged (kWH)  \\\n",
       "count       1275.000000     1695.000000  ...           1757.000000   \n",
       "mean          82.791214       81.311733  ...            239.567911   \n",
       "std           21.204027       21.801186  ...            154.453603   \n",
       "min            0.000000        0.000000  ...              0.000000   \n",
       "25%           68.883600       67.995350  ...            129.646000   \n",
       "50%           94.345300       90.918800  ...            234.378000   \n",
       "75%          100.000000       99.607800  ...            342.126000   \n",
       "max          100.000000      100.000000  ...           1056.980000   \n",
       "\n",
       "       Regenerated kWH  Energy Consumed (kWH)  kWH for components  \\\n",
       "count      1757.000000            1757.000000         1757.000000   \n",
       "mean         68.057226             245.519886          366.549897   \n",
       "std          32.419751              96.389209          244.212466   \n",
       "min           0.000000               0.000000            0.000000   \n",
       "25%          42.638400             175.973000          191.954107   \n",
       "50%          68.510600             249.337000          319.355198   \n",
       "75%          90.908800             305.747000          488.809477   \n",
       "max         175.418000             659.284000         1066.649172   \n",
       "\n",
       "       Hours Charging  Hours Moving  Hours Stopped  Hours Operating  \\\n",
       "count     1757.000000   1757.000000    1757.000000      1757.000000   \n",
       "mean         7.770527      7.233186       5.940224        16.810826   \n",
       "std          5.624605      4.417747       3.962729         4.981684   \n",
       "min          0.000000      0.000000       0.000000         0.000000   \n",
       "25%          3.618333      4.345000       3.217778        13.530000   \n",
       "50%          6.833611      6.695278       5.059444        17.248333   \n",
       "75%         11.225000      9.036389       8.242500        20.536944   \n",
       "max         34.360278     19.441667      22.918333        24.000556   \n",
       "\n",
       "       Hourly Fuel Consumption  Diesel L/km  \n",
       "count              1757.000000  1757.000000  \n",
       "mean                       inf     0.058772  \n",
       "std                        NaN     0.063179  \n",
       "min                   0.003580     0.000000  \n",
       "25%                   0.204293     0.021931  \n",
       "50%                   0.368475     0.041230  \n",
       "75%                   0.673840     0.074505  \n",
       "max                        inf     0.562621  \n",
       "\n",
       "[8 rows x 22 columns]"
      ]
     },
     "execution_count": 132,
     "metadata": {},
     "output_type": "execute_result"
    }
   ],
   "source": [
    "df[\"Issue Qty\"].fillna(0)\n",
    "df[\"Kilometers\"].fillna(0)\n",
    "\n",
    "condition_1 = df[\"Kilometers\"] == 0\n",
    "condition_2 = (df[\"Issue Qty\"] / df[\"Kilometers\"] ) > 10\n",
    "conditions = [condition_1, condition_2]\n",
    "value_1 = 0\n",
    "value_2 = 0.2\n",
    "values = [value_1, value_2]\n",
    "\n",
    "df[\"Diesel L/km\"] = np.select(conditions, values, default=df[\"Issue Qty\"] / df[\"Kilometers\"]) #np.where(df[\"Kilometers\"] == 0 , 0, df[\"Issue Qty\"] / df[\"Kilometers\"])\n",
    "df.describe()"
   ]
  },
  {
   "cell_type": "code",
   "execution_count": 133,
   "id": "91b9679a",
   "metadata": {},
   "outputs": [
    {
     "data": {
      "text/html": [
       "<div>\n",
       "<style scoped>\n",
       "    .dataframe tbody tr th:only-of-type {\n",
       "        vertical-align: middle;\n",
       "    }\n",
       "\n",
       "    .dataframe tbody tr th {\n",
       "        vertical-align: top;\n",
       "    }\n",
       "\n",
       "    .dataframe thead th {\n",
       "        text-align: right;\n",
       "    }\n",
       "</style>\n",
       "<table border=\"1\" class=\"dataframe\">\n",
       "  <thead>\n",
       "    <tr style=\"text-align: right;\">\n",
       "      <th></th>\n",
       "      <th>Range in C</th>\n",
       "      <th>Range in F</th>\n",
       "      <th>Diesel L/km</th>\n",
       "      <th>Diesel Energy Equivalency HHV KWh/km</th>\n",
       "      <th>Diesel Energy Equivalency LHV KWh/km</th>\n",
       "      <th>Diesel Energy Equivalency HHV KWh/mile</th>\n",
       "      <th>Diesel Energy Equivalency LHV KWh/mile</th>\n",
       "    </tr>\n",
       "  </thead>\n",
       "  <tbody>\n",
       "    <tr>\n",
       "      <th>0</th>\n",
       "      <td>Below -10C</td>\n",
       "      <td>Below 14F</td>\n",
       "      <td>0.104635</td>\n",
       "      <td>1.123378</td>\n",
       "      <td>1.049842</td>\n",
       "      <td>1.807515</td>\n",
       "      <td>1.689196</td>\n",
       "    </tr>\n",
       "    <tr>\n",
       "      <th>1</th>\n",
       "      <td>-10C to -5C</td>\n",
       "      <td>14F to 23F</td>\n",
       "      <td>0.085836</td>\n",
       "      <td>0.921541</td>\n",
       "      <td>0.861218</td>\n",
       "      <td>1.482760</td>\n",
       "      <td>1.385700</td>\n",
       "    </tr>\n",
       "    <tr>\n",
       "      <th>2</th>\n",
       "      <td>-5C to 0C</td>\n",
       "      <td>23F to 32F</td>\n",
       "      <td>0.085836</td>\n",
       "      <td>0.921541</td>\n",
       "      <td>0.861218</td>\n",
       "      <td>1.482760</td>\n",
       "      <td>1.385700</td>\n",
       "    </tr>\n",
       "    <tr>\n",
       "      <th>3</th>\n",
       "      <td>0C to 5C</td>\n",
       "      <td>32F to 41F</td>\n",
       "      <td>0.080822</td>\n",
       "      <td>0.867711</td>\n",
       "      <td>0.810912</td>\n",
       "      <td>1.396147</td>\n",
       "      <td>1.304757</td>\n",
       "    </tr>\n",
       "    <tr>\n",
       "      <th>4</th>\n",
       "      <td>5C to 10C</td>\n",
       "      <td>41F to 50F</td>\n",
       "      <td>0.066498</td>\n",
       "      <td>0.713931</td>\n",
       "      <td>0.667197</td>\n",
       "      <td>1.148714</td>\n",
       "      <td>1.073520</td>\n",
       "    </tr>\n",
       "    <tr>\n",
       "      <th>5</th>\n",
       "      <td>10C to 15C</td>\n",
       "      <td>50F to 59F</td>\n",
       "      <td>0.048152</td>\n",
       "      <td>0.516964</td>\n",
       "      <td>0.483124</td>\n",
       "      <td>0.831796</td>\n",
       "      <td>0.777347</td>\n",
       "    </tr>\n",
       "    <tr>\n",
       "      <th>6</th>\n",
       "      <td>15C to 20C</td>\n",
       "      <td>59F to 68F</td>\n",
       "      <td>0.036264</td>\n",
       "      <td>0.389331</td>\n",
       "      <td>0.363846</td>\n",
       "      <td>0.626434</td>\n",
       "      <td>0.585428</td>\n",
       "    </tr>\n",
       "    <tr>\n",
       "      <th>7</th>\n",
       "      <td>20C to 25C</td>\n",
       "      <td>68F to 77F</td>\n",
       "      <td>0.027703</td>\n",
       "      <td>0.297418</td>\n",
       "      <td>0.277949</td>\n",
       "      <td>0.478546</td>\n",
       "      <td>0.447220</td>\n",
       "    </tr>\n",
       "    <tr>\n",
       "      <th>8</th>\n",
       "      <td>25C to 30C</td>\n",
       "      <td>77F to 86F</td>\n",
       "      <td>0.013081</td>\n",
       "      <td>0.140443</td>\n",
       "      <td>0.131249</td>\n",
       "      <td>0.225972</td>\n",
       "      <td>0.211180</td>\n",
       "    </tr>\n",
       "    <tr>\n",
       "      <th>9</th>\n",
       "      <td>Above 30C</td>\n",
       "      <td>Above 86F</td>\n",
       "      <td>0.007382</td>\n",
       "      <td>0.079252</td>\n",
       "      <td>0.074064</td>\n",
       "      <td>0.127517</td>\n",
       "      <td>0.119170</td>\n",
       "    </tr>\n",
       "  </tbody>\n",
       "</table>\n",
       "</div>"
      ],
      "text/plain": [
       "    Range in C  Range in F  Diesel L/km  Diesel Energy Equivalency HHV KWh/km  \\\n",
       "0   Below -10C   Below 14F     0.104635                              1.123378   \n",
       "1  -10C to -5C  14F to 23F     0.085836                              0.921541   \n",
       "2    -5C to 0C  23F to 32F     0.085836                              0.921541   \n",
       "3     0C to 5C  32F to 41F     0.080822                              0.867711   \n",
       "4    5C to 10C  41F to 50F     0.066498                              0.713931   \n",
       "5   10C to 15C  50F to 59F     0.048152                              0.516964   \n",
       "6   15C to 20C  59F to 68F     0.036264                              0.389331   \n",
       "7   20C to 25C  68F to 77F     0.027703                              0.297418   \n",
       "8   25C to 30C  77F to 86F     0.013081                              0.140443   \n",
       "9    Above 30C   Above 86F     0.007382                              0.079252   \n",
       "\n",
       "   Diesel Energy Equivalency LHV KWh/km  \\\n",
       "0                              1.049842   \n",
       "1                              0.861218   \n",
       "2                              0.861218   \n",
       "3                              0.810912   \n",
       "4                              0.667197   \n",
       "5                              0.483124   \n",
       "6                              0.363846   \n",
       "7                              0.277949   \n",
       "8                              0.131249   \n",
       "9                              0.074064   \n",
       "\n",
       "   Diesel Energy Equivalency HHV KWh/mile  \\\n",
       "0                                1.807515   \n",
       "1                                1.482760   \n",
       "2                                1.482760   \n",
       "3                                1.396147   \n",
       "4                                1.148714   \n",
       "5                                0.831796   \n",
       "6                                0.626434   \n",
       "7                                0.478546   \n",
       "8                                0.225972   \n",
       "9                                0.127517   \n",
       "\n",
       "   Diesel Energy Equivalency LHV KWh/mile  \n",
       "0                                1.689196  \n",
       "1                                1.385700  \n",
       "2                                1.385700  \n",
       "3                                1.304757  \n",
       "4                                1.073520  \n",
       "5                                0.777347  \n",
       "6                                0.585428  \n",
       "7                                0.447220  \n",
       "8                                0.211180  \n",
       "9                                0.119170  "
      ]
     },
     "execution_count": 133,
     "metadata": {},
     "output_type": "execute_result"
    }
   ],
   "source": [
    "MJ_TO_KWH = 1 / 3.6 # KWh / MJ\n",
    "DIESEL_HHV = 38.65 * MJ_TO_KWH # MJ/L * (KWh/MJ) = KWh/L\n",
    "DIESEL_LHV = 36.12 * MJ_TO_KWH # MJ/L * (KWh/MJ) = KWh/L\n",
    "\n",
    "temp_minus10 =  df[\"Diesel L/km\"].groupby(df[\"Ave Ambient Temp (C)\"] < -10 ).mean()\n",
    "temp_minus10_5 =  df[\"Diesel L/km\"].groupby((df[\"Ave Ambient Temp (C)\"].between(-10,5)) ).mean()\n",
    "temp_minus5_0 =  df[\"Diesel L/km\"].groupby((df[\"Ave Ambient Temp (C)\"].between(-5,0)) ).mean()\n",
    "temp_plus0_5 =  df[\"Diesel L/km\"].groupby((df[\"Ave Ambient Temp (C)\"].between(0,5)) ).mean()\n",
    "temp_plus5_10 =  df[\"Diesel L/km\"].groupby((df[\"Ave Ambient Temp (C)\"].between(5,10)) ).mean()\n",
    "temp_plus10_15 = df[\"Diesel L/km\"].groupby((df[\"Ave Ambient Temp (C)\"].between(10,15)), dropna=True ).mean()\n",
    "temp_plus15_20 = df[\"Diesel L/km\"].groupby((df[\"Ave Ambient Temp (C)\"].between(15,20)) ).mean()\n",
    "temp_plus20_25 = df[\"Diesel L/km\"].groupby((df[\"Ave Ambient Temp (C)\"].between(20,25)) ).mean()\n",
    "temp_plus25_30 = df[\"Diesel L/km\"].groupby((df[\"Ave Ambient Temp (C)\"].between(25,30)) ).mean()\n",
    "temp_plus30 =  df[\"Diesel L/km\"].groupby(df[\"Ave Ambient Temp (C)\"] > 30 ).mean()\n",
    "\n",
    "results_text = [\"Below -10C\", \"-10C to -5C\", \"-5C to 0C\", \"0C to 5C\", \"5C to 10C\", \"10C to 15C\", \"15C to 20C\", \"20C to 25C\", \"25C to 30C\", \"Above 30C\"]\n",
    "results_text_f = [\"Below 14F\", \"14F to 23F\", \"23F to 32F\", \"32F to 41F\", \"41F to 50F\", \"50F to 59F\", \"59F to 68F\", \"68F to 77F\", \"77F to 86F\", \"Above 86F\"]\n",
    "results_5 = [temp_minus10[True], temp_minus10_5[True], temp_minus10_5[True], temp_plus0_5[True], temp_plus5_10[True], temp_plus10_15[True], temp_plus15_20[True], temp_plus20_25[True], temp_plus25_30[True], temp_plus30[True]]\n",
    "\n",
    "results = pd.DataFrame()   \n",
    "results[\"Range in C\"] = pd.DataFrame(results_text)\n",
    "results[\"Range in F\"] = pd.DataFrame(results_text_f)\n",
    "results[\"Diesel L/km\"] = pd.DataFrame(results_5)\n",
    "results[\"Diesel Energy Equivalency HHV KWh/km\"] = results[\"Diesel L/km\"] * DIESEL_HHV\n",
    "results[\"Diesel Energy Equivalency LHV KWh/km\"] = results[\"Diesel L/km\"] * DIESEL_LHV\n",
    "results[\"Diesel Energy Equivalency HHV KWh/mile\"] = results[\"Diesel Energy Equivalency HHV KWh/km\"] * 1.609\n",
    "results[\"Diesel Energy Equivalency LHV KWh/mile\"] = results[\"Diesel Energy Equivalency LHV KWh/km\"] * 1.609\n",
    "results\n"
   ]
  },
  {
   "cell_type": "code",
   "execution_count": 134,
   "id": "27109a96",
   "metadata": {},
   "outputs": [
    {
     "data": {
      "text/html": [
       "<div>\n",
       "<style scoped>\n",
       "    .dataframe tbody tr th:only-of-type {\n",
       "        vertical-align: middle;\n",
       "    }\n",
       "\n",
       "    .dataframe tbody tr th {\n",
       "        vertical-align: top;\n",
       "    }\n",
       "\n",
       "    .dataframe thead th {\n",
       "        text-align: right;\n",
       "    }\n",
       "</style>\n",
       "<table border=\"1\" class=\"dataframe\">\n",
       "  <thead>\n",
       "    <tr style=\"text-align: right;\">\n",
       "      <th></th>\n",
       "      <th>Range in C</th>\n",
       "      <th>Range in F</th>\n",
       "      <th>Diesel L/km</th>\n",
       "      <th>Diesel Energy Equivalency HHV KWh/km</th>\n",
       "      <th>Diesel Energy Equivalency LHV KWh/km</th>\n",
       "      <th>Diesel Energy Equivalency HHV KWh/mile</th>\n",
       "      <th>Diesel Energy Equivalency LHV KWh/mile</th>\n",
       "      <th>Instances</th>\n",
       "    </tr>\n",
       "  </thead>\n",
       "  <tbody>\n",
       "    <tr>\n",
       "      <th>0</th>\n",
       "      <td>Below -10C</td>\n",
       "      <td>Below 14F</td>\n",
       "      <td>0.104635</td>\n",
       "      <td>1.123378</td>\n",
       "      <td>1.049842</td>\n",
       "      <td>1.807515</td>\n",
       "      <td>1.689196</td>\n",
       "      <td>39</td>\n",
       "    </tr>\n",
       "    <tr>\n",
       "      <th>1</th>\n",
       "      <td>-10C to -5C</td>\n",
       "      <td>14F to 23F</td>\n",
       "      <td>0.085836</td>\n",
       "      <td>0.921541</td>\n",
       "      <td>0.861218</td>\n",
       "      <td>1.482760</td>\n",
       "      <td>1.385700</td>\n",
       "      <td>349</td>\n",
       "    </tr>\n",
       "    <tr>\n",
       "      <th>2</th>\n",
       "      <td>-5C to 0C</td>\n",
       "      <td>23F to 32F</td>\n",
       "      <td>0.085836</td>\n",
       "      <td>0.921541</td>\n",
       "      <td>0.861218</td>\n",
       "      <td>1.482760</td>\n",
       "      <td>1.385700</td>\n",
       "      <td>98</td>\n",
       "    </tr>\n",
       "    <tr>\n",
       "      <th>3</th>\n",
       "      <td>0C to 5C</td>\n",
       "      <td>32F to 41F</td>\n",
       "      <td>0.080822</td>\n",
       "      <td>0.867711</td>\n",
       "      <td>0.810912</td>\n",
       "      <td>1.396147</td>\n",
       "      <td>1.304757</td>\n",
       "      <td>223</td>\n",
       "    </tr>\n",
       "    <tr>\n",
       "      <th>4</th>\n",
       "      <td>5C to 10C</td>\n",
       "      <td>41F to 50F</td>\n",
       "      <td>0.066498</td>\n",
       "      <td>0.713931</td>\n",
       "      <td>0.667197</td>\n",
       "      <td>1.148714</td>\n",
       "      <td>1.073520</td>\n",
       "      <td>460</td>\n",
       "    </tr>\n",
       "    <tr>\n",
       "      <th>5</th>\n",
       "      <td>10C to 15C</td>\n",
       "      <td>50F to 59F</td>\n",
       "      <td>0.048152</td>\n",
       "      <td>0.516964</td>\n",
       "      <td>0.483124</td>\n",
       "      <td>0.831796</td>\n",
       "      <td>0.777347</td>\n",
       "      <td>393</td>\n",
       "    </tr>\n",
       "    <tr>\n",
       "      <th>6</th>\n",
       "      <td>15C to 20C</td>\n",
       "      <td>59F to 68F</td>\n",
       "      <td>0.036264</td>\n",
       "      <td>0.389331</td>\n",
       "      <td>0.363846</td>\n",
       "      <td>0.626434</td>\n",
       "      <td>0.585428</td>\n",
       "      <td>266</td>\n",
       "    </tr>\n",
       "    <tr>\n",
       "      <th>7</th>\n",
       "      <td>20C to 25C</td>\n",
       "      <td>68F to 77F</td>\n",
       "      <td>0.027703</td>\n",
       "      <td>0.297418</td>\n",
       "      <td>0.277949</td>\n",
       "      <td>0.478546</td>\n",
       "      <td>0.447220</td>\n",
       "      <td>100</td>\n",
       "    </tr>\n",
       "    <tr>\n",
       "      <th>8</th>\n",
       "      <td>25C to 30C</td>\n",
       "      <td>77F to 86F</td>\n",
       "      <td>0.013081</td>\n",
       "      <td>0.140443</td>\n",
       "      <td>0.131249</td>\n",
       "      <td>0.225972</td>\n",
       "      <td>0.211180</td>\n",
       "      <td>31</td>\n",
       "    </tr>\n",
       "    <tr>\n",
       "      <th>9</th>\n",
       "      <td>Above 30C</td>\n",
       "      <td>Above 86F</td>\n",
       "      <td>0.007382</td>\n",
       "      <td>0.079252</td>\n",
       "      <td>0.074064</td>\n",
       "      <td>0.127517</td>\n",
       "      <td>0.119170</td>\n",
       "      <td>5</td>\n",
       "    </tr>\n",
       "  </tbody>\n",
       "</table>\n",
       "</div>"
      ],
      "text/plain": [
       "    Range in C  Range in F  Diesel L/km  Diesel Energy Equivalency HHV KWh/km  \\\n",
       "0   Below -10C   Below 14F     0.104635                              1.123378   \n",
       "1  -10C to -5C  14F to 23F     0.085836                              0.921541   \n",
       "2    -5C to 0C  23F to 32F     0.085836                              0.921541   \n",
       "3     0C to 5C  32F to 41F     0.080822                              0.867711   \n",
       "4    5C to 10C  41F to 50F     0.066498                              0.713931   \n",
       "5   10C to 15C  50F to 59F     0.048152                              0.516964   \n",
       "6   15C to 20C  59F to 68F     0.036264                              0.389331   \n",
       "7   20C to 25C  68F to 77F     0.027703                              0.297418   \n",
       "8   25C to 30C  77F to 86F     0.013081                              0.140443   \n",
       "9    Above 30C   Above 86F     0.007382                              0.079252   \n",
       "\n",
       "   Diesel Energy Equivalency LHV KWh/km  \\\n",
       "0                              1.049842   \n",
       "1                              0.861218   \n",
       "2                              0.861218   \n",
       "3                              0.810912   \n",
       "4                              0.667197   \n",
       "5                              0.483124   \n",
       "6                              0.363846   \n",
       "7                              0.277949   \n",
       "8                              0.131249   \n",
       "9                              0.074064   \n",
       "\n",
       "   Diesel Energy Equivalency HHV KWh/mile  \\\n",
       "0                                1.807515   \n",
       "1                                1.482760   \n",
       "2                                1.482760   \n",
       "3                                1.396147   \n",
       "4                                1.148714   \n",
       "5                                0.831796   \n",
       "6                                0.626434   \n",
       "7                                0.478546   \n",
       "8                                0.225972   \n",
       "9                                0.127517   \n",
       "\n",
       "   Diesel Energy Equivalency LHV KWh/mile  Instances  \n",
       "0                                1.689196         39  \n",
       "1                                1.385700        349  \n",
       "2                                1.385700         98  \n",
       "3                                1.304757        223  \n",
       "4                                1.073520        460  \n",
       "5                                0.777347        393  \n",
       "6                                0.585428        266  \n",
       "7                                0.447220        100  \n",
       "8                                0.211180         31  \n",
       "9                                0.119170          5  "
      ]
     },
     "execution_count": 134,
     "metadata": {},
     "output_type": "execute_result"
    }
   ],
   "source": [
    "minus10 =  df[\"Diesel L/km\"].groupby(df[\"Ave Ambient Temp (C)\"] < -10 ).count()[True]\n",
    "minus10_5 =  df[\"Diesel L/km\"].groupby((df[\"Ave Ambient Temp (C)\"].between(-10,5)) ).count()[True]\n",
    "minus5_0 =  df[\"Diesel L/km\"].groupby((df[\"Ave Ambient Temp (C)\"].between(-5,0)) ).count()[True]\n",
    "plus0_5 =  df[\"Diesel L/km\"].groupby((df[\"Ave Ambient Temp (C)\"].between(0,5)) ).count()[True]\n",
    "plus5_10 =  df[\"Diesel L/km\"].groupby((df[\"Ave Ambient Temp (C)\"].between(5,10)) ).count()[True]\n",
    "plus10_15 = df[\"Diesel L/km\"].groupby((df[\"Ave Ambient Temp (C)\"].between(10,15)), dropna=True ).count()[True]\n",
    "plus15_20 = df[\"Diesel L/km\"].groupby((df[\"Ave Ambient Temp (C)\"].between(15,20)) ).count()[True]\n",
    "plus20_25 = df[\"Diesel L/km\"].groupby((df[\"Ave Ambient Temp (C)\"].between(20,25)) ).count()[True]\n",
    "plus25_30 = df[\"Diesel L/km\"].groupby((df[\"Ave Ambient Temp (C)\"].between(25,30)) ).count()[True]\n",
    "plus30 =  df[\"Diesel L/km\"].groupby(df[\"Ave Ambient Temp (C)\"] > 30 ).count()[True]\n",
    "\n",
    "count_list = [minus10 , minus10_5, minus5_0 , plus0_5, plus5_10, plus10_15, plus15_20, plus20_25, plus25_30 , plus30]\n",
    "\n",
    "results[\"Instances\"] = count_list\n",
    "results"
   ]
  },
  {
   "cell_type": "code",
   "execution_count": 135,
   "id": "8ddeb454",
   "metadata": {},
   "outputs": [
    {
     "data": {
      "text/html": [
       "<div>\n",
       "<style scoped>\n",
       "    .dataframe tbody tr th:only-of-type {\n",
       "        vertical-align: middle;\n",
       "    }\n",
       "\n",
       "    .dataframe tbody tr th {\n",
       "        vertical-align: top;\n",
       "    }\n",
       "\n",
       "    .dataframe thead th {\n",
       "        text-align: right;\n",
       "    }\n",
       "</style>\n",
       "<table border=\"1\" class=\"dataframe\">\n",
       "  <thead>\n",
       "    <tr style=\"text-align: right;\">\n",
       "      <th></th>\n",
       "      <th>Range in C</th>\n",
       "      <th>Range in F</th>\n",
       "      <th>Diesel L/km</th>\n",
       "      <th>Diesel Energy Equivalency HHV KWh/km</th>\n",
       "      <th>Diesel Energy Equivalency LHV KWh/km</th>\n",
       "      <th>Diesel Energy Equivalency HHV KWh/mile</th>\n",
       "      <th>Diesel Energy Equivalency LHV KWh/mile</th>\n",
       "    </tr>\n",
       "  </thead>\n",
       "  <tbody>\n",
       "    <tr>\n",
       "      <th>0</th>\n",
       "      <td>Below -10C</td>\n",
       "      <td>Below 14F</td>\n",
       "      <td>0.087563</td>\n",
       "      <td>0.940088</td>\n",
       "      <td>0.878551</td>\n",
       "      <td>1.512602</td>\n",
       "      <td>1.413588</td>\n",
       "    </tr>\n",
       "    <tr>\n",
       "      <th>1</th>\n",
       "      <td>-10C to -5C</td>\n",
       "      <td>14F to 23F</td>\n",
       "      <td>0.068849</td>\n",
       "      <td>0.739176</td>\n",
       "      <td>0.690790</td>\n",
       "      <td>1.189333</td>\n",
       "      <td>1.111481</td>\n",
       "    </tr>\n",
       "    <tr>\n",
       "      <th>2</th>\n",
       "      <td>-5C to 0C</td>\n",
       "      <td>23F to 32F</td>\n",
       "      <td>0.068849</td>\n",
       "      <td>0.739176</td>\n",
       "      <td>0.690790</td>\n",
       "      <td>1.189333</td>\n",
       "      <td>1.111481</td>\n",
       "    </tr>\n",
       "    <tr>\n",
       "      <th>3</th>\n",
       "      <td>0C to 5C</td>\n",
       "      <td>32F to 41F</td>\n",
       "      <td>0.063889</td>\n",
       "      <td>0.685917</td>\n",
       "      <td>0.641017</td>\n",
       "      <td>1.103640</td>\n",
       "      <td>1.031396</td>\n",
       "    </tr>\n",
       "    <tr>\n",
       "      <th>4</th>\n",
       "      <td>5C to 10C</td>\n",
       "      <td>41F to 50F</td>\n",
       "      <td>0.057227</td>\n",
       "      <td>0.614391</td>\n",
       "      <td>0.574173</td>\n",
       "      <td>0.988554</td>\n",
       "      <td>0.923844</td>\n",
       "    </tr>\n",
       "    <tr>\n",
       "      <th>5</th>\n",
       "      <td>10C to 15C</td>\n",
       "      <td>50F to 59F</td>\n",
       "      <td>0.040955</td>\n",
       "      <td>0.439695</td>\n",
       "      <td>0.410913</td>\n",
       "      <td>0.707469</td>\n",
       "      <td>0.661159</td>\n",
       "    </tr>\n",
       "    <tr>\n",
       "      <th>6</th>\n",
       "      <td>15C to 20C</td>\n",
       "      <td>59F to 68F</td>\n",
       "      <td>0.031164</td>\n",
       "      <td>0.334578</td>\n",
       "      <td>0.312677</td>\n",
       "      <td>0.538336</td>\n",
       "      <td>0.503097</td>\n",
       "    </tr>\n",
       "    <tr>\n",
       "      <th>7</th>\n",
       "      <td>20C to 25C</td>\n",
       "      <td>68F to 77F</td>\n",
       "      <td>0.027703</td>\n",
       "      <td>0.297418</td>\n",
       "      <td>0.277949</td>\n",
       "      <td>0.478546</td>\n",
       "      <td>0.447220</td>\n",
       "    </tr>\n",
       "    <tr>\n",
       "      <th>8</th>\n",
       "      <td>25C to 30C</td>\n",
       "      <td>77F to 86F</td>\n",
       "      <td>0.013081</td>\n",
       "      <td>0.140443</td>\n",
       "      <td>0.131249</td>\n",
       "      <td>0.225972</td>\n",
       "      <td>0.211180</td>\n",
       "    </tr>\n",
       "    <tr>\n",
       "      <th>9</th>\n",
       "      <td>Above 30C</td>\n",
       "      <td>Above 86F</td>\n",
       "      <td>0.007382</td>\n",
       "      <td>0.079252</td>\n",
       "      <td>0.074064</td>\n",
       "      <td>0.127517</td>\n",
       "      <td>0.119170</td>\n",
       "    </tr>\n",
       "  </tbody>\n",
       "</table>\n",
       "</div>"
      ],
      "text/plain": [
       "    Range in C  Range in F  Diesel L/km  Diesel Energy Equivalency HHV KWh/km  \\\n",
       "0   Below -10C   Below 14F     0.087563                              0.940088   \n",
       "1  -10C to -5C  14F to 23F     0.068849                              0.739176   \n",
       "2    -5C to 0C  23F to 32F     0.068849                              0.739176   \n",
       "3     0C to 5C  32F to 41F     0.063889                              0.685917   \n",
       "4    5C to 10C  41F to 50F     0.057227                              0.614391   \n",
       "5   10C to 15C  50F to 59F     0.040955                              0.439695   \n",
       "6   15C to 20C  59F to 68F     0.031164                              0.334578   \n",
       "7   20C to 25C  68F to 77F     0.027703                              0.297418   \n",
       "8   25C to 30C  77F to 86F     0.013081                              0.140443   \n",
       "9    Above 30C   Above 86F     0.007382                              0.079252   \n",
       "\n",
       "   Diesel Energy Equivalency LHV KWh/km  \\\n",
       "0                              0.878551   \n",
       "1                              0.690790   \n",
       "2                              0.690790   \n",
       "3                              0.641017   \n",
       "4                              0.574173   \n",
       "5                              0.410913   \n",
       "6                              0.312677   \n",
       "7                              0.277949   \n",
       "8                              0.131249   \n",
       "9                              0.074064   \n",
       "\n",
       "   Diesel Energy Equivalency HHV KWh/mile  \\\n",
       "0                                1.512602   \n",
       "1                                1.189333   \n",
       "2                                1.189333   \n",
       "3                                1.103640   \n",
       "4                                0.988554   \n",
       "5                                0.707469   \n",
       "6                                0.538336   \n",
       "7                                0.478546   \n",
       "8                                0.225972   \n",
       "9                                0.127517   \n",
       "\n",
       "   Diesel Energy Equivalency LHV KWh/mile  \n",
       "0                                1.413588  \n",
       "1                                1.111481  \n",
       "2                                1.111481  \n",
       "3                                1.031396  \n",
       "4                                0.923844  \n",
       "5                                0.661159  \n",
       "6                                0.503097  \n",
       "7                                0.447220  \n",
       "8                                0.211180  \n",
       "9                                0.119170  "
      ]
     },
     "execution_count": 135,
     "metadata": {},
     "output_type": "execute_result"
    }
   ],
   "source": [
    "#### mean of 0.058 and std dev of 0.063 from main dataset\n",
    "std2 = 0.058 + 0.063 * 2\n",
    "diesel_refined = df[df[\"Diesel L/km\"] < std2]\n",
    "\n",
    "temp_minus10 =  diesel_refined[\"Diesel L/km\"].groupby(diesel_refined[\"Ave Ambient Temp (C)\"] < -10 ).mean()\n",
    "temp_minus10_5 =  diesel_refined[\"Diesel L/km\"].groupby((diesel_refined[\"Ave Ambient Temp (C)\"].between(-10,5)) ).mean()\n",
    "temp_minus5_0 =  diesel_refined[\"Diesel L/km\"].groupby((diesel_refined[\"Ave Ambient Temp (C)\"].between(-5,0)) ).mean()\n",
    "temp_plus0_5 =  diesel_refined[\"Diesel L/km\"].groupby((diesel_refined[\"Ave Ambient Temp (C)\"].between(0,5)) ).mean()\n",
    "temp_plus5_10 =  diesel_refined[\"Diesel L/km\"].groupby((diesel_refined[\"Ave Ambient Temp (C)\"].between(5,10)) ).mean()\n",
    "temp_plus10_15 = diesel_refined[\"Diesel L/km\"].groupby((diesel_refined[\"Ave Ambient Temp (C)\"].between(10,15)), dropna=True ).mean()\n",
    "temp_plus15_20 = diesel_refined[\"Diesel L/km\"].groupby((diesel_refined[\"Ave Ambient Temp (C)\"].between(15,20)) ).mean()\n",
    "temp_plus20_25 = diesel_refined[\"Diesel L/km\"].groupby((diesel_refined[\"Ave Ambient Temp (C)\"].between(20,25)) ).mean()\n",
    "temp_plus25_30 = diesel_refined[\"Diesel L/km\"].groupby((diesel_refined[\"Ave Ambient Temp (C)\"].between(25,30)) ).mean()\n",
    "temp_plus30 =  diesel_refined[\"Diesel L/km\"].groupby(diesel_refined[\"Ave Ambient Temp (C)\"] > 30 ).mean()\n",
    "\n",
    "minus10 =  diesel_refined[\"Diesel L/km\"].groupby(diesel_refined[\"Ave Ambient Temp (C)\"] < -10 ).count()[True]\n",
    "minus10_5 =  diesel_refined[\"Diesel L/km\"].groupby((diesel_refined[\"Ave Ambient Temp (C)\"].between(-10,5)) ).count()[True]\n",
    "minus5_0 =  diesel_refined[\"Diesel L/km\"].groupby((diesel_refined[\"Ave Ambient Temp (C)\"].between(-5,0)) ).count()[True]\n",
    "plus0_5 =  diesel_refined[\"Diesel L/km\"].groupby((diesel_refined[\"Ave Ambient Temp (C)\"].between(0,5)) ).count()[True]\n",
    "plus5_10 =  diesel_refined[\"Diesel L/km\"].groupby((diesel_refined[\"Ave Ambient Temp (C)\"].between(5,10)) ).count()[True]\n",
    "plus10_15 = diesel_refined[\"Diesel L/km\"].groupby((diesel_refined[\"Ave Ambient Temp (C)\"].between(10,15)), dropna=True ).count()[True]\n",
    "plus15_20 = diesel_refined[\"Diesel L/km\"].groupby((diesel_refined[\"Ave Ambient Temp (C)\"].between(15,20)) ).count()[True]\n",
    "plus20_25 = diesel_refined[\"Diesel L/km\"].groupby((diesel_refined[\"Ave Ambient Temp (C)\"].between(20,25)) ).count()[True]\n",
    "plus25_30 = diesel_refined[\"Diesel L/km\"].groupby((diesel_refined[\"Ave Ambient Temp (C)\"].between(25,30)) ).count()[True]\n",
    "plus30 =  diesel_refined[\"Diesel L/km\"].groupby(diesel_refined[\"Ave Ambient Temp (C)\"] > 30 ).count()[True]\n",
    "\n",
    "results_text = [\"Below -10C\", \"-10C to -5C\", \"-5C to 0C\", \"0C to 5C\", \"5C to 10C\", \"10C to 15C\", \"15C to 20C\", \"20C to 25C\", \"25C to 30C\", \"Above 30C\"]\n",
    "results_text_f = [\"Below 14F\", \"14F to 23F\", \"23F to 32F\", \"32F to 41F\", \"41F to 50F\", \"50F to 59F\", \"59F to 68F\", \"68F to 77F\", \"77F to 86F\", \"Above 86F\"]\n",
    "results_5 = [temp_minus10[True], temp_minus10_5[True], temp_minus10_5[True], temp_plus0_5[True], temp_plus5_10[True], temp_plus10_15[True], temp_plus15_20[True], temp_plus20_25[True], temp_plus25_30[True], temp_plus30[True]]\n",
    "\n",
    "count_list = [minus10 , minus10_5, minus5_0 , plus0_5, plus5_10, plus10_15, plus15_20, plus20_25, plus25_30 , plus30]\n",
    "\n",
    "results_refined = pd.DataFrame()   \n",
    "results_refined[\"Range in C\"] = pd.DataFrame(results_text)\n",
    "results_refined[\"Range in F\"] = pd.DataFrame(results_text_f)\n",
    "results_refined[\"Diesel L/km\"] = pd.DataFrame(results_5)\n",
    "results_refined[\"Diesel Energy Equivalency HHV KWh/km\"] = results_refined[\"Diesel L/km\"] * DIESEL_HHV\n",
    "results_refined[\"Diesel Energy Equivalency LHV KWh/km\"] = results_refined[\"Diesel L/km\"] * DIESEL_LHV\n",
    "results_refined[\"Diesel Energy Equivalency HHV KWh/mile\"] = results_refined[\"Diesel Energy Equivalency HHV KWh/km\"] * 1.609\n",
    "results_refined[\"Diesel Energy Equivalency LHV KWh/mile\"] = results_refined[\"Diesel Energy Equivalency LHV KWh/km\"] * 1.609\n",
    "results_refined"
   ]
  },
  {
   "cell_type": "code",
   "execution_count": 136,
   "id": "92a4c15d",
   "metadata": {},
   "outputs": [
    {
     "data": {
      "image/png": "[encoded data removed]",
      "text/plain": [
       "<Figure size 432x288 with 1 Axes>"
      ]
     },
     "metadata": {
      "needs_background": "light"
     },
     "output_type": "display_data"
    }
   ],
   "source": [
    "plt.hist(diesel_refined[\"Issue Qty\"], bins=40)\n",
    "plt.show()"
   ]
  },
  {
   "cell_type": "code",
   "execution_count": 137,
   "id": "21b09af5",
   "metadata": {},
   "outputs": [
    {
     "data": {
      "image/png": "[encoded data removed]",
      "text/plain": [
       "<Figure size 432x288 with 1 Axes>"
      ]
     },
     "metadata": {
      "needs_background": "light"
     },
     "output_type": "display_data"
    }
   ],
   "source": [
    "plt.hist(diesel_refined[\"Diesel L/km\"], bins=40)\n",
    "plt.show()"
   ]
  },
  {
   "cell_type": "code",
   "execution_count": 138,
   "id": "808ee700",
   "metadata": {},
   "outputs": [
    {
     "data": {
      "image/png": "[encoded data removed]",
      "text/plain": [
       "<Figure size 432x288 with 1 Axes>"
      ]
     },
     "metadata": {
      "needs_background": "light"
     },
     "output_type": "display_data"
    }
   ],
   "source": [
    "plt.hist(diesel_refined[\"Kilometers\"], bins=40)\n",
    "plt.show()"
   ]
  },
  {
   "cell_type": "code",
   "execution_count": 139,
   "id": "0e85011a",
   "metadata": {},
   "outputs": [],
   "source": [
    "results_refined.to_csv('diesel_energy_consuption_equivalency_by_temp.csv', index=False)"
   ]
  },
  {
   "cell_type": "code",
   "execution_count": null,
   "id": "57f81c91",
   "metadata": {},
   "outputs": [],
   "source": []
  },
  {
   "cell_type": "code",
   "execution_count": 140,
   "id": "e99abd66",
   "metadata": {},
   "outputs": [
    {
     "data": {
      "text/plain": [
       "<AxesSubplot:xlabel='Ave Ambient Temp (C)', ylabel='Diesel L/km'>"
      ]
     },
     "execution_count": 140,
     "metadata": {},
     "output_type": "execute_result"
    },
    {
     "data": {
      "image/png": "[encoded data removed]",
      "text/plain": [
       "<Figure size 432x288 with 1 Axes>"
      ]
     },
     "metadata": {
      "needs_background": "light"
     },
     "output_type": "display_data"
    }
   ],
   "source": [
    "sns.scatterplot(data=diesel_refined, x=\"Ave Ambient Temp (C)\", y=\"Diesel L/km\", hue=\"Diesel L/km\")"
   ]
  },
  {
   "cell_type": "code",
   "execution_count": 141,
   "id": "c557f8b2",
   "metadata": {},
   "outputs": [
    {
     "data": {
      "image/png": "[encoded data removed]",
      "text/plain": [
       "<Figure size 432x432 with 3 Axes>"
      ]
     },
     "metadata": {
      "needs_background": "light"
     },
     "output_type": "display_data"
    }
   ],
   "source": [
    "p = sns.jointplot(data=diesel_refined, x=\"Ave Ambient Temp (C)\", y=\"Diesel L/km\", kind=\"reg\")\n",
    "p.set_axis_labels('Average Ambient Temperature (C)', 'Diesel Consumption (L/Km)')\n",
    "p.fig.suptitle(\"Diesel Consumption vs Average Ambient Temperature\")\n",
    "p.fig.tight_layout()\n",
    "p.fig.subplots_adjust(top=0.95)"
   ]
  },
  {
   "cell_type": "code",
   "execution_count": 142,
   "id": "b4039699",
   "metadata": {},
   "outputs": [
    {
     "data": {
      "text/plain": [
       "<seaborn.axisgrid.PairGrid at 0x1e41ce4a5e0>"
      ]
     },
     "execution_count": 142,
     "metadata": {},
     "output_type": "execute_result"
    },
    {
     "data": {
      "image/png": "[encoded data removed]",
      "text/plain": [
       "<Figure size 720x720 with 20 Axes>"
      ]
     },
     "metadata": {
      "needs_background": "light"
     },
     "output_type": "display_data"
    }
   ],
   "source": [
    "sns.pairplot(diesel_refined, kind='hist',x_vars=[\"Issue Qty\", \"Kilometers\", \"Ave Ambient Temp (C)\", \"Diesel L/km\"], y_vars=[\"Issue Qty\", \"Kilometers\", \"Ave Ambient Temp (C)\", \"Diesel L/km\"])"
   ]
  }
 ],
 "metadata": {
  "kernelspec": {
   "display_name": "Python 3 (ipykernel)",
   "language": "python",
   "name": "python3"
  },
  "language_info": {
   "codemirror_mode": {
    "name": "ipython",
    "version": 3
   },
   "file_extension": ".py",
   "mimetype": "text/x-python",
   "name": "python",
   "nbconvert_exporter": "python",
   "pygments_lexer": "ipython3",
   "version": "3.9.7"
  }
 },
 "nbformat": 4,
 "nbformat_minor": 5
}
